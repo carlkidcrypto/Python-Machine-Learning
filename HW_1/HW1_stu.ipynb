{
 "cells": [
  {
   "cell_type": "markdown",
   "metadata": {},
   "source": [
    "# Homework 1: Python for basic data analysis\n",
    "\n",
    "\n",
    "Name: Santos, Carlos\n",
    "\n",
    "Department: ECE\n",
    "\n",
    "\n",
    "\n",
    "\n",
    "This homework aims to help you practice basic Python programing skills using the breast cancer wisconsin dataset. \n",
    "\n",
    "![breast image](breastimg.png)\n",
    "\n",
    "| *Fig. 1. Cell nuclei in a breast histopathology image* | \n",
    "|---|\n",
    "|Fine Needle Aspiration (FNA) biopsy: https://www.cancer.org/cancer/breast-cancer/screening-tests-and-early-detection/breast-biopsy/fine-needle-aspiration-biopsy-of-the-breast.html|\n",
    "|H&E stain: https://en.wikipedia.org/wiki/H%26E_stain|\n",
    "\n",
    "\n",
    "Tasks:\n",
    "\n",
    "    [Task 1](#section1)\n",
    "\n",
    "    [Task 2](#section2)\n",
    "\n",
    "    [Task 3](#section3)\n",
    "\n",
    "    [Task 4](#section4)\n",
    "\n",
    "    [Task 5](#section5)"
   ]
  },
  {
   "cell_type": "markdown",
   "metadata": {},
   "source": [
    "## Dataset\n",
    "\n",
    "    - Number of data samples: 569\n",
    "    \n",
    "    - Each data sample has 30 numeric features/attributes. The first 10 features were directly calculated using mean feautues of all nuclei in an image\n",
    "    \n",
    "    - Class labels\n",
    "        : 212 Malignant (0)\n",
    "        : 357 Benign (1)\n",
    "        \n",
    "    https://scikit-learn.org/stable/modules/generated/sklearn.datasets.load_breast_cancer.html#sklearn.datasets.load_breast_cancer"
   ]
  },
  {
   "cell_type": "code",
   "execution_count": 1,
   "metadata": {},
   "outputs": [],
   "source": [
    "import sklearn.datasets as ds\n",
    "import numpy as np"
   ]
  },
  {
   "cell_type": "code",
   "execution_count": 2,
   "metadata": {
    "scrolled": true
   },
   "outputs": [
    {
     "name": "stdout",
     "output_type": "stream",
     "text": [
      "Data fields in breast_ds: \n",
      " ['DESCR', 'data', 'feature_names', 'filename', 'frame', 'target', 'target_names']\n",
      "\n",
      " Dataset description:\n",
      " .. _breast_cancer_dataset:\n",
      "\n",
      "Breast cancer wisconsin (diagnostic) dataset\n",
      "--------------------------------------------\n",
      "\n",
      "**Data Set Characteristics:**\n",
      "\n",
      "    :Number of Instances: 569\n",
      "\n",
      "    :Number of Attributes: 30 numeric, predictive attributes and the class\n",
      "\n",
      "    :Attribute Information:\n",
      "        - radius (mean of distances from center to points on the perimeter)\n",
      "        - texture (standard deviation of gray-scale values)\n",
      "        - perimeter\n",
      "        - area\n",
      "        - smoothness (local variation in radius lengths)\n",
      "        - compactness (perimeter^2 / area - 1.0)\n",
      "        - concavity (severity of concave portions of the contour)\n",
      "        - concave points (number of concave portions of the contour)\n",
      "        - symmetry\n",
      "        - fractal dimension (\"coastline approximation\" - 1)\n",
      "\n",
      "        The mean, standard error, and \"worst\" or largest (mean of the three\n",
      "        worst/largest values) of these features were computed for each image,\n",
      "        resulting in 30 features.  For instance, field 0 is Mean Radius, field\n",
      "        10 is Radius SE, field 20 is Worst Radius.\n",
      "\n",
      "        - class:\n",
      "                - WDBC-Malignant\n",
      "                - WDBC-Benign\n",
      "\n",
      "    :Summary Statistics:\n",
      "\n",
      "    ===================================== ====== ======\n",
      "                                           Min    Max\n",
      "    ===================================== ====== ======\n",
      "    radius (mean):                        6.981  28.11\n",
      "    texture (mean):                       9.71   39.28\n",
      "    perimeter (mean):                     43.79  188.5\n",
      "    area (mean):                          143.5  2501.0\n",
      "    smoothness (mean):                    0.053  0.163\n",
      "    compactness (mean):                   0.019  0.345\n",
      "    concavity (mean):                     0.0    0.427\n",
      "    concave points (mean):                0.0    0.201\n",
      "    symmetry (mean):                      0.106  0.304\n",
      "    fractal dimension (mean):             0.05   0.097\n",
      "    radius (standard error):              0.112  2.873\n",
      "    texture (standard error):             0.36   4.885\n",
      "    perimeter (standard error):           0.757  21.98\n",
      "    area (standard error):                6.802  542.2\n",
      "    smoothness (standard error):          0.002  0.031\n",
      "    compactness (standard error):         0.002  0.135\n",
      "    concavity (standard error):           0.0    0.396\n",
      "    concave points (standard error):      0.0    0.053\n",
      "    symmetry (standard error):            0.008  0.079\n",
      "    fractal dimension (standard error):   0.001  0.03\n",
      "    radius (worst):                       7.93   36.04\n",
      "    texture (worst):                      12.02  49.54\n",
      "    perimeter (worst):                    50.41  251.2\n",
      "    area (worst):                         185.2  4254.0\n",
      "    smoothness (worst):                   0.071  0.223\n",
      "    compactness (worst):                  0.027  1.058\n",
      "    concavity (worst):                    0.0    1.252\n",
      "    concave points (worst):               0.0    0.291\n",
      "    symmetry (worst):                     0.156  0.664\n",
      "    fractal dimension (worst):            0.055  0.208\n",
      "    ===================================== ====== ======\n",
      "\n",
      "    :Missing Attribute Values: None\n",
      "\n",
      "    :Class Distribution: 212 - Malignant, 357 - Benign\n",
      "\n",
      "    :Creator:  Dr. William H. Wolberg, W. Nick Street, Olvi L. Mangasarian\n",
      "\n",
      "    :Donor: Nick Street\n",
      "\n",
      "    :Date: November, 1995\n",
      "\n",
      "This is a copy of UCI ML Breast Cancer Wisconsin (Diagnostic) datasets.\n",
      "https://goo.gl/U2Uwz2\n",
      "\n",
      "Features are computed from a digitized image of a fine needle\n",
      "aspirate (FNA) of a breast mass.  They describe\n",
      "characteristics of the cell nuclei present in the image.\n",
      "\n",
      "Separating plane described above was obtained using\n",
      "Multisurface Method-Tree (MSM-T) [K. P. Bennett, \"Decision Tree\n",
      "Construction Via Linear Programming.\" Proceedings of the 4th\n",
      "Midwest Artificial Intelligence and Cognitive Science Society,\n",
      "pp. 97-101, 1992], a classification method which uses linear\n",
      "programming to construct a decision tree.  Relevant features\n",
      "were selected using an exhaustive search in the space of 1-4\n",
      "features and 1-3 separating planes.\n",
      "\n",
      "The actual linear program used to obtain the separating plane\n",
      "in the 3-dimensional space is that described in:\n",
      "[K. P. Bennett and O. L. Mangasarian: \"Robust Linear\n",
      "Programming Discrimination of Two Linearly Inseparable Sets\",\n",
      "Optimization Methods and Software 1, 1992, 23-34].\n",
      "\n",
      "This database is also available through the UW CS ftp server:\n",
      "\n",
      "ftp ftp.cs.wisc.edu\n",
      "cd math-prog/cpo-dataset/machine-learn/WDBC/\n",
      "\n",
      ".. topic:: References\n",
      "\n",
      "   - W.N. Street, W.H. Wolberg and O.L. Mangasarian. Nuclear feature extraction \n",
      "     for breast tumor diagnosis. IS&T/SPIE 1993 International Symposium on \n",
      "     Electronic Imaging: Science and Technology, volume 1905, pages 861-870,\n",
      "     San Jose, CA, 1993.\n",
      "   - O.L. Mangasarian, W.N. Street and W.H. Wolberg. Breast cancer diagnosis and \n",
      "     prognosis via linear programming. Operations Research, 43(4), pages 570-577, \n",
      "     July-August 1995.\n",
      "   - W.H. Wolberg, W.N. Street, and O.L. Mangasarian. Machine learning techniques\n",
      "     to diagnose breast cancer from fine-needle aspirates. Cancer Letters 77 (1994) \n",
      "     163-171.\n"
     ]
    }
   ],
   "source": [
    "breast_ds = ds.load_breast_cancer()\n",
    "print('Data fields in breast_ds: \\n', dir(breast_ds))\n",
    "\n",
    "print('\\n Dataset description:\\n', breast_ds['DESCR'])"
   ]
  },
  {
   "cell_type": "code",
   "execution_count": 3,
   "metadata": {},
   "outputs": [
    {
     "name": "stdout",
     "output_type": "stream",
     "text": [
      "size of ftrs:  569 10\n",
      "size of tgt:  569\n"
     ]
    }
   ],
   "source": [
    "# we are going to use the first 10 features in this assignment.\n",
    "ftrs = breast_ds['data'][:, :10].tolist() # np array to list\n",
    "tgt = (breast_ds['target']).tolist()\n",
    "\n",
    "print('size of ftrs: ', len(ftrs), len(ftrs[0]))\n",
    "print('size of tgt: ', len(tgt))"
   ]
  },
  {
   "cell_type": "markdown",
   "metadata": {},
   "source": [
    "## Task 1: Count and print out the number of malignant samples. 10 points <a id = \"section1\"/>"
   ]
  },
  {
   "cell_type": "code",
   "execution_count": 4,
   "metadata": {
    "scrolled": true
   },
   "outputs": [
    {
     "name": "stdout",
     "output_type": "stream",
     "text": [
      "benign_count: 357 Size of Benign list: 357\n",
      "malignant_count 212 Size of malignant list: 212\n",
      "Sample Total: 569\n"
     ]
    }
   ],
   "source": [
    "# Let's begin by defining what a \"malignant\" sample is!\n",
    "# FNA breast biopsy: Fine needle Aspiration\n",
    "# A doctor called a pathologist will look at the biopsy tissue or fluid to find out if there are cancer cells in it.\n",
    "\n",
    "# 1. If the fluid is brown, green, or tan, the lump is most likely a cyst, and not cancer.\n",
    "# 2. Bloody or clear fluid can mean either a cyst that’s not cancer or, very rarely, cancer.\n",
    "# 3. If the lump is solid, the doctor will look at small groups of cells from the biopsy to determine what it is.\n",
    "\n",
    "#print(breast_ds.target_names)\n",
    "#print(breast_ds.keys())\n",
    "feature_names = breast_ds.feature_names\n",
    "data = breast_ds.data\n",
    "target = breast_ds.target\n",
    "benign = []\n",
    "malignant = []\n",
    "\n",
    "\n",
    "#print(feature_names)\n",
    "#print(data)\n",
    "#print(target)\n",
    "\n",
    "# - Class labels\n",
    "#    : 212 Malignant (0)\n",
    "#    : 357 Benign (1)\n",
    "\n",
    "benign_count = 0\n",
    "malignant_count = 0\n",
    "\n",
    "# Count the benign and malignant samples and\n",
    "# Split the benign and malignant samples\n",
    "\n",
    "for index,item in enumerate(target):\n",
    "    if item == 1:\n",
    "        benign_count = benign_count + 1\n",
    "        benign.append(data[index])\n",
    "    else:\n",
    "        malignant_count = malignant_count + 1\n",
    "        malignant.append(data[index])\n",
    "\n",
    "print(\"benign_count:\", benign_count, \"Size of Benign list:\", len(benign))\n",
    "print(\"malignant_count\", malignant_count, \"Size of malignant list:\", len(malignant))\n",
    "print(\"Sample Total:\", benign_count + malignant_count)\n",
    "\n",
    "\n"
   ]
  },
  {
   "cell_type": "markdown",
   "metadata": {},
   "source": [
    "## Task 2: data search. 20 points.  <a id = \"section2\"/>\n",
    "\n",
    "Let the user input a sample idx (1 to 569), and your code will output the data features and the corresponding class label\n",
    "\n",
    "Extra 5 points for dealing with abnormal input.\n"
   ]
  },
  {
   "cell_type": "code",
   "execution_count": 5,
   "metadata": {
    "tags": [
     "outputPrepend"
    ]
   },
   "outputs": [
    {
     "ename": "KeyboardInterrupt",
     "evalue": "Interrupted by user",
     "output_type": "error",
     "traceback": [
      "\u001b[1;31m---------------------------------------------------------------------------\u001b[0m",
      "\u001b[1;31mKeyboardInterrupt\u001b[0m                         Traceback (most recent call last)",
      "\u001b[1;32m<ipython-input-5-d3de8f709437>\u001b[0m in \u001b[0;36m<module>\u001b[1;34m\u001b[0m\n\u001b[0;32m      1\u001b[0m \u001b[1;32mwhile\u001b[0m \u001b[1;32mTrue\u001b[0m\u001b[1;33m:\u001b[0m\u001b[1;33m\u001b[0m\u001b[1;33m\u001b[0m\u001b[0m\n\u001b[1;32m----> 2\u001b[1;33m     \u001b[0muser_input\u001b[0m \u001b[1;33m=\u001b[0m \u001b[0minput\u001b[0m\u001b[1;33m(\u001b[0m\u001b[1;34m\"Input Sample Number (1-569) or exit: \"\u001b[0m\u001b[1;33m)\u001b[0m\u001b[1;33m\u001b[0m\u001b[1;33m\u001b[0m\u001b[0m\n\u001b[0m\u001b[0;32m      3\u001b[0m     \u001b[1;31m# We convert the input into a number, if it fails there was some text in the input\u001b[0m\u001b[1;33m\u001b[0m\u001b[1;33m\u001b[0m\u001b[1;33m\u001b[0m\u001b[0m\n\u001b[0;32m      4\u001b[0m     \u001b[1;32mtry\u001b[0m\u001b[1;33m:\u001b[0m\u001b[1;33m\u001b[0m\u001b[1;33m\u001b[0m\u001b[0m\n\u001b[0;32m      5\u001b[0m         \u001b[0muser_input\u001b[0m \u001b[1;33m=\u001b[0m \u001b[0mint\u001b[0m\u001b[1;33m(\u001b[0m\u001b[0muser_input\u001b[0m\u001b[1;33m)\u001b[0m\u001b[1;33m\u001b[0m\u001b[1;33m\u001b[0m\u001b[0m\n",
      "\u001b[1;32m~\\anaconda3\\lib\\site-packages\\ipykernel\\kernelbase.py\u001b[0m in \u001b[0;36mraw_input\u001b[1;34m(self, prompt)\u001b[0m\n\u001b[0;32m    858\u001b[0m                 \u001b[1;34m\"raw_input was called, but this frontend does not support input requests.\"\u001b[0m\u001b[1;33m\u001b[0m\u001b[1;33m\u001b[0m\u001b[0m\n\u001b[0;32m    859\u001b[0m             )\n\u001b[1;32m--> 860\u001b[1;33m         return self._input_request(str(prompt),\n\u001b[0m\u001b[0;32m    861\u001b[0m             \u001b[0mself\u001b[0m\u001b[1;33m.\u001b[0m\u001b[0m_parent_ident\u001b[0m\u001b[1;33m,\u001b[0m\u001b[1;33m\u001b[0m\u001b[1;33m\u001b[0m\u001b[0m\n\u001b[0;32m    862\u001b[0m             \u001b[0mself\u001b[0m\u001b[1;33m.\u001b[0m\u001b[0m_parent_header\u001b[0m\u001b[1;33m,\u001b[0m\u001b[1;33m\u001b[0m\u001b[1;33m\u001b[0m\u001b[0m\n",
      "\u001b[1;32m~\\anaconda3\\lib\\site-packages\\ipykernel\\kernelbase.py\u001b[0m in \u001b[0;36m_input_request\u001b[1;34m(self, prompt, ident, parent, password)\u001b[0m\n\u001b[0;32m    902\u001b[0m             \u001b[1;32mexcept\u001b[0m \u001b[0mKeyboardInterrupt\u001b[0m\u001b[1;33m:\u001b[0m\u001b[1;33m\u001b[0m\u001b[1;33m\u001b[0m\u001b[0m\n\u001b[0;32m    903\u001b[0m                 \u001b[1;31m# re-raise KeyboardInterrupt, to truncate traceback\u001b[0m\u001b[1;33m\u001b[0m\u001b[1;33m\u001b[0m\u001b[1;33m\u001b[0m\u001b[0m\n\u001b[1;32m--> 904\u001b[1;33m                 \u001b[1;32mraise\u001b[0m \u001b[0mKeyboardInterrupt\u001b[0m\u001b[1;33m(\u001b[0m\u001b[1;34m\"Interrupted by user\"\u001b[0m\u001b[1;33m)\u001b[0m \u001b[1;32mfrom\u001b[0m \u001b[1;32mNone\u001b[0m\u001b[1;33m\u001b[0m\u001b[1;33m\u001b[0m\u001b[0m\n\u001b[0m\u001b[0;32m    905\u001b[0m             \u001b[1;32mexcept\u001b[0m \u001b[0mException\u001b[0m \u001b[1;32mas\u001b[0m \u001b[0me\u001b[0m\u001b[1;33m:\u001b[0m\u001b[1;33m\u001b[0m\u001b[1;33m\u001b[0m\u001b[0m\n\u001b[0;32m    906\u001b[0m                 \u001b[0mself\u001b[0m\u001b[1;33m.\u001b[0m\u001b[0mlog\u001b[0m\u001b[1;33m.\u001b[0m\u001b[0mwarning\u001b[0m\u001b[1;33m(\u001b[0m\u001b[1;34m\"Invalid Message:\"\u001b[0m\u001b[1;33m,\u001b[0m \u001b[0mexc_info\u001b[0m\u001b[1;33m=\u001b[0m\u001b[1;32mTrue\u001b[0m\u001b[1;33m)\u001b[0m\u001b[1;33m\u001b[0m\u001b[1;33m\u001b[0m\u001b[0m\n",
      "\u001b[1;31mKeyboardInterrupt\u001b[0m: Interrupted by user"
     ]
    }
   ],
   "source": [
    "while True:\n",
    "    user_input = input(\"Input Sample Number (1-569) or exit: \")\n",
    "    # We convert the input into a number, if it fails there was some text in the input\n",
    "    try:\n",
    "        user_input = int(user_input)\n",
    "        \n",
    "        if user_input >= 1 and user_input <= 569:\n",
    "            # User Input should be good if we get here\n",
    "            print(\"Your Sample is being loaded: \", user_input)\n",
    "            if target[user_input - 1] == 0:\n",
    "                sample_label = \"malignant\"\n",
    "            else:\n",
    "                sample_label = \"benign\"\n",
    "            print(\"\\n\\nSample Type: \", sample_label)\n",
    "            for i in range(0, 30):\n",
    "                print(\"Sample: \", feature_names[i], data[user_input-1][i])\n",
    "        else:\n",
    "            raise ValueError\n",
    "        \n",
    "        \n",
    "            \n",
    "        #print(sample_data, sample_label)\n",
    "    except ValueError:\n",
    "        if user_input == \"exit\":\n",
    "            break\n",
    "        else:\n",
    "            print(\"An invalid number was entered! Please try again!\")\n",
    "        \n",
    "\n"
   ]
  },
  {
   "cell_type": "markdown",
   "metadata": {},
   "source": [
    "## Task 3. 30 points  <a id = \"section3\"/>\n",
    "\n",
    "Task 3.1: Calculate and print out the mean, min and max values of the feature 'concave points (7)' for all benign samples.\n",
    "Tip: use the for loop\n"
   ]
  },
  {
   "cell_type": "code",
   "execution_count": null,
   "metadata": {},
   "outputs": [],
   "source": [
    "# Find mean, min, max for concave points in benign samples\n",
    "from random import randint\n",
    "benign_mean = 0.0\n",
    "benign_min = benign[randint(0,len(benign)-1)][7]\n",
    "benign_max = benign[randint(0,len(benign)-1)][7]\n",
    "for sample in benign:\n",
    "    # We know that 7 is the concave points\n",
    "    # To find mean we add all the values up first\n",
    "    benign_mean = sample[7] + benign_mean\n",
    "    \n",
    "    # Is it max? or min\n",
    "    if sample[7] >= benign_max:\n",
    "        benign_max = sample[7]\n",
    "    \n",
    "    if sample[7] <= benign_min:\n",
    "        benign_min = sample[7]\n",
    "\n",
    "benign_mean = benign_mean/len(benign)\n",
    "print(\"Benign Max:\", benign_max)\n",
    "print(\"Benign Min:\", benign_min)\n",
    "print(\"Benign Mean:\", benign_mean)"
   ]
  },
  {
   "cell_type": "markdown",
   "metadata": {},
   "source": [
    "Task 3.2: Calculate and print out the mean, min and max values of the feature 'concave points' for all malignant samples.\n"
   ]
  },
  {
   "cell_type": "code",
   "execution_count": null,
   "metadata": {},
   "outputs": [],
   "source": [
    "# Find mean, min, max for concave points in malignant samples\n",
    "malignant_mean = 0.0\n",
    "malignant_min = malignant[randint(0,len(malignant)-1)][7]\n",
    "malignant_max = malignant[randint(0,len(malignant)-1)][7]\n",
    "for sample in malignant:\n",
    "    # We know that 7 is the concave points\n",
    "    # To find mean we add all the values up first\n",
    "    malignant_mean = sample[7] + malignant_mean\n",
    "    \n",
    "    # Is it max? or min\n",
    "    if sample[7] >= malignant_max:\n",
    "        malignant_max = sample[7]\n",
    "    \n",
    "    if sample[7] <= malignant_min:\n",
    "        malignant_min = sample[7]\n",
    "\n",
    "malignant_mean = malignant_mean/len(malignant)\n",
    "print(\"Malignant Max:\", malignant_max)\n",
    "print(\"Malignant Min:\", malignant_min)\n",
    "print(\"Malignant Mean:\", malignant_mean)"
   ]
  },
  {
   "cell_type": "markdown",
   "metadata": {
    "scrolled": true
   },
   "source": [
    "## Task 4: count the number of benign samples that have 'concave points' values less than 0.17. 20 points  <a id = \"section4\"/>\n",
    "\n"
   ]
  },
  {
   "cell_type": "code",
   "execution_count": null,
   "metadata": {},
   "outputs": [],
   "source": [
    "sample_count = 0\n",
    "for sample in benign:\n",
    "    if sample[7] < 0.17:\n",
    "        sample_count = sample_count + 1\n",
    "\n",
    "print(\"Benign Samples with concave points less than 0.17:\", sample_count)"
   ]
  },
  {
   "cell_type": "markdown",
   "metadata": {},
   "source": [
    "## Task 5. 20 points <a id = \"section5\"/>\n",
    "\n",
    "Define a function that calculates the Euclidean distance between any two given data samples\n",
    " "
   ]
  },
  {
   "cell_type": "code",
   "execution_count": 9,
   "metadata": {},
   "outputs": [],
   "source": [
    "import math\n"
   ]
  },
  {
   "cell_type": "code",
   "execution_count": 17,
   "metadata": {},
   "outputs": [
    {
     "name": "stdout",
     "output_type": "stream",
     "text": [
      "10 points: 782.1672620284146\n",
      "30 points: 1309.8714219163683\n"
     ]
    }
   ],
   "source": [
    "def euclidean_distance(sample1_list, sample2_list):\n",
    "    ''' This function will calcuate the Eucilidean distance between\n",
    "        any two given samples.\n",
    "        \n",
    "        euclidean_distance = sum of all distances then squared. distiance=(X1-Y1)\n",
    "    '''\n",
    "    total_distance = 0\n",
    "    # Since we pass in 2 lists one for each sample\n",
    "    if len(sample1_list) == len(sample2_list):\n",
    "        # All is good they are the same size!\n",
    "        for index, item in enumerate(sample1_list):\n",
    "            distance = math.pow(sample1_list[index] - sample2_list[index], 2)\n",
    "            total_distance = total_distance + distance\n",
    "            \n",
    "        # Now we do the squre part\n",
    "        return math.sqrt(total_distance)\n",
    "    else:\n",
    "        return -1\n",
    "\n",
    "# first ten points\n",
    "print(\"10 points:\", euclidean_distance(ftrs[1], ftrs[43]))\n",
    "\n",
    "# All 30 points\n",
    "print(\"30 points:\", euclidean_distance(data[1], data[43]))\n",
    "            \n",
    "                \n",
    "                \n",
    "                \n",
    "    "
   ]
  },
  {
   "cell_type": "code",
   "execution_count": null,
   "metadata": {},
   "outputs": [],
   "source": []
  },
  {
   "cell_type": "code",
   "execution_count": null,
   "metadata": {},
   "outputs": [],
   "source": []
  },
  {
   "cell_type": "code",
   "execution_count": null,
   "metadata": {},
   "outputs": [],
   "source": []
  },
  {
   "cell_type": "code",
   "execution_count": null,
   "metadata": {},
   "outputs": [],
   "source": []
  },
  {
   "cell_type": "code",
   "execution_count": null,
   "metadata": {},
   "outputs": [],
   "source": []
  },
  {
   "cell_type": "code",
   "execution_count": null,
   "metadata": {},
   "outputs": [],
   "source": []
  },
  {
   "cell_type": "code",
   "execution_count": null,
   "metadata": {},
   "outputs": [],
   "source": []
  }
 ],
 "metadata": {
  "kernelspec": {
   "display_name": "Python 3",
   "language": "python",
   "name": "python3"
  },
  "language_info": {
   "codemirror_mode": {
    "name": "ipython",
    "version": 3
   },
   "file_extension": ".py",
   "mimetype": "text/x-python",
   "name": "python",
   "nbconvert_exporter": "python",
   "pygments_lexer": "ipython3",
   "version": "3.8.5"
  }
 },
 "nbformat": 4,
 "nbformat_minor": 4
}
