{
 "cells": [
  {
   "cell_type": "markdown",
   "metadata": {},
   "source": [
    "## Homework 2: Search hyperparameters for neural networks\n",
    "In this homework, you will practice using Keras to implement neural networks and search their hyperparameters for handwritten digits classification.\n",
    "\n",
    "### Dataset\n",
    "MNIST handwritten digits. 60k 28*28 grayscale training images of the 10 digits, along with a test set of 10k images\n",
    "\n",
    "![Fig. 1](handwrittendigits.png)\n",
    " *Fig.1. Handwritten digits examples.* \n",
    "\n",
    "### Instructions\n",
    "\n",
    "    1. You need to install Keras on your computer to build neural networks.\n",
    "    2. The framework, e.g., functions' names, input, and output, has been defined. You are going to complete the create_NN, nn_params_search, retrain_best_nn, myEvaluation functions.\n",
    "    3. Add your code in the following blocks, and do not change other places.\n",
    "\n",
    "```python\n",
    "\n",
    "    ## add your code here\n",
    "    \n",
    "    ##\n",
    "```\n",
    "\n",
    "### Student information\n",
    "    1. Your name: Carlos Santos\n",
    "    2. Department: Comp. E.\n",
    "    3. Undergraduate\n",
    "\n",
    "### Task points and TA grading: ??/100\n",
    "    1. ?/10\n",
    "    2. ?/30\n",
    "    3. ?/30\n",
    "    4. ?/10\n",
    "    5. ?/20\n",
    "    6: performance_acc: ?/10"
   ]
  },
  {
   "cell_type": "code",
   "execution_count": 5,
   "metadata": {
    "scrolled": false
   },
   "outputs": [],
   "source": [
    "import keras\n",
    "from sklearn.model_selection import GridSearchCV\n",
    "from sklearn.metrics import confusion_matrix\n",
    "import numpy as np"
   ]
  },
  {
   "cell_type": "markdown",
   "metadata": {},
   "source": [
    "### 1. Load the MNIST dataset in Keras. 10 points"
   ]
  },
  {
   "cell_type": "code",
   "execution_count": 6,
   "metadata": {},
   "outputs": [
    {
     "name": "stdout",
     "output_type": "stream",
     "text": [
      "X_train_2D: (60000, 28, 28), X_train: (60000, 784)\n",
      "X_test_2D: (10000, 28, 28), X_test: (10000, 784)\n",
      "y_train_onehot: (60000, 10)\n",
      "one-hot vector examples:\n",
      " [[0. 0. 0. 0. 0. 1. 0. 0. 0. 0.]\n",
      " [1. 0. 0. 0. 0. 0. 0. 0. 0. 0.]\n",
      " [0. 0. 0. 0. 1. 0. 0. 0. 0. 0.]\n",
      " [0. 1. 0. 0. 0. 0. 0. 0. 0. 0.]\n",
      " [0. 0. 0. 0. 0. 0. 0. 0. 0. 1.]]\n"
     ]
    }
   ],
   "source": [
    "import matplotlib.pyplot as plt\n",
    "def load_data():\n",
    "    '''Load the MNIST dataset'''\n",
    "    \n",
    "    (X_train, y_train), (X_test, y_test) = keras.datasets.mnist.load_data()\n",
    "    return (X_train, y_train, X_test, y_test)\n",
    "\n",
    "#Task 1. load the dataset\n",
    "(X_train_2D, y_train, X_test_2D, y_test) = load_data()\n",
    "\n",
    "# 1.1 reshape the training and test sets (N*28*28) to N * 784. 10 points\n",
    "X_train = np.reshape(X_train_2D, (X_train_2D.shape[0], (X_train_2D.shape[1]*X_train_2D.shape[2])))\n",
    "X_test = np.reshape(X_test_2D, (X_test_2D.shape[0], (X_test_2D.shape[1]*X_test_2D.shape[2])))\n",
    "\n",
    "print('X_train_2D: {}, X_train: {}'.format(X_train_2D.shape, X_train.shape))\n",
    "print('X_test_2D: {}, X_test: {}'.format(X_test_2D.shape, X_test.shape))\n",
    "\n",
    "# 1.2 transform y_train to one-hot vectors using keras.utils.to_categorical to form the output of the NN. 10 points\n",
    "y_train_onehot = keras.utils.to_categorical(y_train) \n",
    "print('y_train_onehot: {}'.format(y_train_onehot.shape))\n",
    "print('one-hot vector examples:\\n', y_train_onehot[:5])"
   ]
  },
  {
   "cell_type": "markdown",
   "metadata": {},
   "source": [
    "### 2. Create neural networks using Keras. 30 points"
   ]
  },
  {
   "cell_type": "code",
   "execution_count": 7,
   "metadata": {},
   "outputs": [
    {
     "name": "stdout",
     "output_type": "stream",
     "text": [
      "Hidden Layer: 1 Size of: 1000\n",
      "Hidden Layer: 2 Size of: 500\n",
      "Model: \"sequential_1\"\n",
      "_________________________________________________________________\n",
      "Layer (type)                 Output Shape              Param #   \n",
      "=================================================================\n",
      "dense (Dense)                (None, 1000)              785000    \n",
      "_________________________________________________________________\n",
      "dense_1 (Dense)              (None, 500)               500500    \n",
      "_________________________________________________________________\n",
      "dense_2 (Dense)              (None, 10)                5010      \n",
      "=================================================================\n",
      "Total params: 1,290,510\n",
      "Trainable params: 1,290,510\n",
      "Non-trainable params: 0\n",
      "_________________________________________________________________\n"
     ]
    }
   ],
   "source": [
    "def create_NN(hidden_layers = [1000], act = 'relu', opt = 'rmsprop'): \n",
    "    '''create a deep feedforwad neural network using keras\n",
    "    \n",
    "    Parameters\n",
    "    -----------\n",
    "    hidden_layers: a list that defines the numbers of hidden nodes for all hidden layers, e.g., [1000] indicates\n",
    "    the nn has only one hidden layer with 1000 nodes, while [1000, 500] defines two hidden layers and the first\n",
    "    layer has 1000 nodes and the second has 500 nodes.\n",
    "    act: activation function for all hidden layers\n",
    "    opt: optimizer\n",
    "    \n",
    "    Returns\n",
    "    -------\n",
    "    myNN: the neural network model\n",
    "    \n",
    "    '''\n",
    "    in_dim = 784\n",
    "    out_dim = 10    \n",
    "    myNN = keras.models.Sequential()\n",
    "    \n",
    "    \n",
    "    num_hidden_layers = 0\n",
    "    for layer in hidden_layers:\n",
    "        num_hidden_layers = num_hidden_layers + 1 \n",
    "        print(\"Hidden Layer:\", num_hidden_layers, \"Size of:\", layer)\n",
    "        #2.1 build all hidden layers\n",
    "        myNN.add(keras.layers.Dense(\n",
    "        units=layer,\n",
    "        input_dim=in_dim,\n",
    "        activation=act))\n",
    "\n",
    "    #2.2 build the output layer and use the softmax activation  \n",
    "    myNN.add(keras.layers.Dense(\n",
    "    units=out_dim,\n",
    "    activation='softmax'))\n",
    "\n",
    "    #2.3 choose the optimizer, compile the network and return it. Use 'accuracy' as the metrics\n",
    "    myNN.compile(optimizer=opt, loss='categorical_crossentropy', metrics=['accuracy'])\n",
    "    return myNN\n",
    "    \n",
    "h_nodes = [1000, 500] # two hidden layers with 1000 and 500 nodes, respectively.\n",
    "myNN = create_NN(hidden_layers= h_nodes, act = 'relu', opt = 'adam')\n",
    "myNN.summary()"
   ]
  },
  {
   "cell_type": "markdown",
   "metadata": {},
   "source": [
    "### 3. Search the best NN paprameters, and report the performance. 30 points\n",
    "    - The KerasClassifier will be used to warp NN models to use the GridSearchCV\n",
    "    - Complete the nn_params_search function to search the three parameters: batch_size, activation, and optimizer.\n",
    "    - Each fit (10 epochs) may take 1 to 2 minutes."
   ]
  },
  {
   "cell_type": "code",
   "execution_count": 8,
   "metadata": {},
   "outputs": [
    {
     "name": "stdout",
     "output_type": "stream",
     "text": [
      "Fitting 3 folds for each of 8 candidates, totalling 24 fits\n",
      "Hidden Layer: 1 Size of: 1000\n",
      "Epoch 1/10\n",
      "625/625 [==============================] - 3s 5ms/step - loss: 704.2440 - accuracy: 0.5957\n",
      "Epoch 2/10\n",
      "625/625 [==============================] - 5s 7ms/step - loss: 0.6038 - accuracy: 0.8506\n",
      "Epoch 3/10\n",
      "625/625 [==============================] - 3s 5ms/step - loss: 0.3863 - accuracy: 0.9111\n",
      "Epoch 4/10\n",
      "625/625 [==============================] - 3s 5ms/step - loss: 0.3169 - accuracy: 0.9274\n",
      "Epoch 5/10\n",
      "625/625 [==============================] - 3s 5ms/step - loss: 0.2798 - accuracy: 0.9349\n",
      "Epoch 6/10\n",
      "625/625 [==============================] - 3s 5ms/step - loss: 0.2920 - accuracy: 0.9356\n",
      "Epoch 7/10\n",
      "625/625 [==============================] - 3s 4ms/step - loss: 0.2381 - accuracy: 0.9435\n",
      "Epoch 8/10\n",
      "625/625 [==============================] - 3s 4ms/step - loss: 0.2414 - accuracy: 0.9440\n",
      "Epoch 9/10\n",
      "625/625 [==============================] - 3s 5ms/step - loss: 0.2451 - accuracy: 0.9438\n",
      "Epoch 10/10\n",
      "625/625 [==============================] - 3s 5ms/step - loss: 0.2729 - accuracy: 0.9359\n"
     ]
    },
    {
     "name": "stderr",
     "output_type": "stream",
     "text": [
      "C:\\Users\\carlo\\anaconda3\\lib\\site-packages\\tensorflow\\python\\keras\\engine\\sequential.py:450: UserWarning: `model.predict_classes()` is deprecated and will be removed after 2021-01-01. Please use instead:* `np.argmax(model.predict(x), axis=-1)`,   if your model does multi-class classification   (e.g. if it uses a `softmax` last-layer activation).* `(model.predict(x) > 0.5).astype(\"int32\")`,   if your model does binary classification   (e.g. if it uses a `sigmoid` last-layer activation).\n",
      "  warnings.warn('`model.predict_classes()` is deprecated and '\n"
     ]
    },
    {
     "name": "stdout",
     "output_type": "stream",
     "text": [
      "[CV] END ...................act=relu, batch_size=64, opt=sgd; total time=  32.8s\n",
      "Hidden Layer: 1 Size of: 1000\n",
      "Epoch 1/10\n",
      "625/625 [==============================] - 3s 5ms/step - loss: 589.7809 - accuracy: 0.6482\n",
      "Epoch 2/10\n",
      "625/625 [==============================] - 3s 6ms/step - loss: 0.4913 - accuracy: 0.8928\n",
      "Epoch 3/10\n",
      "625/625 [==============================] - 3s 5ms/step - loss: 0.3681 - accuracy: 0.9149\n",
      "Epoch 4/10\n",
      "625/625 [==============================] - 3s 5ms/step - loss: 0.3327 - accuracy: 0.9268\n",
      "Epoch 5/10\n",
      "625/625 [==============================] - 3s 5ms/step - loss: 0.2358 - accuracy: 0.9424\n",
      "Epoch 6/10\n",
      "625/625 [==============================] - 3s 5ms/step - loss: 0.2347 - accuracy: 0.9471\n",
      "Epoch 7/10\n",
      "625/625 [==============================] - 3s 5ms/step - loss: 0.2111 - accuracy: 0.9514\n",
      "Epoch 8/10\n",
      "625/625 [==============================] - 3s 6ms/step - loss: 0.1862 - accuracy: 0.9554\n",
      "Epoch 9/10\n",
      "625/625 [==============================] - 3s 5ms/step - loss: 0.1663 - accuracy: 0.9603\n",
      "Epoch 10/10\n",
      "625/625 [==============================] - 3s 5ms/step - loss: 0.1502 - accuracy: 0.9636\n"
     ]
    },
    {
     "name": "stderr",
     "output_type": "stream",
     "text": [
      "C:\\Users\\carlo\\anaconda3\\lib\\site-packages\\tensorflow\\python\\keras\\engine\\sequential.py:450: UserWarning: `model.predict_classes()` is deprecated and will be removed after 2021-01-01. Please use instead:* `np.argmax(model.predict(x), axis=-1)`,   if your model does multi-class classification   (e.g. if it uses a `softmax` last-layer activation).* `(model.predict(x) > 0.5).astype(\"int32\")`,   if your model does binary classification   (e.g. if it uses a `sigmoid` last-layer activation).\n",
      "  warnings.warn('`model.predict_classes()` is deprecated and '\n"
     ]
    },
    {
     "name": "stdout",
     "output_type": "stream",
     "text": [
      "[CV] END ...................act=relu, batch_size=64, opt=sgd; total time=  32.9s\n",
      "Hidden Layer: 1 Size of: 1000\n",
      "Epoch 1/10\n",
      "625/625 [==============================] - 3s 5ms/step - loss: 598.4610 - accuracy: 0.5747\n",
      "Epoch 2/10\n",
      "625/625 [==============================] - 3s 5ms/step - loss: 0.7271 - accuracy: 0.8382\n",
      "Epoch 3/10\n",
      "625/625 [==============================] - 3s 5ms/step - loss: 0.6391 - accuracy: 0.8533\n",
      "Epoch 4/10\n",
      "625/625 [==============================] - 3s 5ms/step - loss: 0.4493 - accuracy: 0.8993\n",
      "Epoch 5/10\n",
      "625/625 [==============================] - 3s 5ms/step - loss: 0.4099 - accuracy: 0.9079\n",
      "Epoch 6/10\n",
      "625/625 [==============================] - 3s 5ms/step - loss: 0.3378 - accuracy: 0.9230\n",
      "Epoch 7/10\n",
      "625/625 [==============================] - 3s 5ms/step - loss: 0.3070 - accuracy: 0.9318\n",
      "Epoch 8/10\n",
      "625/625 [==============================] - 3s 5ms/step - loss: 0.2931 - accuracy: 0.9317\n",
      "Epoch 9/10\n",
      "625/625 [==============================] - 3s 5ms/step - loss: 0.2944 - accuracy: 0.9334\n",
      "Epoch 10/10\n",
      "625/625 [==============================] - 3s 5ms/step - loss: 0.3035 - accuracy: 0.9283\n"
     ]
    },
    {
     "name": "stderr",
     "output_type": "stream",
     "text": [
      "C:\\Users\\carlo\\anaconda3\\lib\\site-packages\\tensorflow\\python\\keras\\engine\\sequential.py:450: UserWarning: `model.predict_classes()` is deprecated and will be removed after 2021-01-01. Please use instead:* `np.argmax(model.predict(x), axis=-1)`,   if your model does multi-class classification   (e.g. if it uses a `softmax` last-layer activation).* `(model.predict(x) > 0.5).astype(\"int32\")`,   if your model does binary classification   (e.g. if it uses a `sigmoid` last-layer activation).\n",
      "  warnings.warn('`model.predict_classes()` is deprecated and '\n"
     ]
    },
    {
     "name": "stdout",
     "output_type": "stream",
     "text": [
      "[CV] END ...................act=relu, batch_size=64, opt=sgd; total time=  31.4s\n",
      "Hidden Layer: 1 Size of: 1000\n",
      "Epoch 1/10\n",
      "625/625 [==============================] - 5s 7ms/step - loss: 12.6029 - accuracy: 0.8494\n",
      "Epoch 2/10\n",
      "625/625 [==============================] - 5s 7ms/step - loss: 0.5011 - accuracy: 0.9540\n",
      "Epoch 3/10\n",
      "625/625 [==============================] - 4s 6ms/step - loss: 0.2746 - accuracy: 0.9665\n",
      "Epoch 4/10\n",
      "625/625 [==============================] - 4s 6ms/step - loss: 0.2325 - accuracy: 0.9678\n",
      "Epoch 5/10\n",
      "625/625 [==============================] - 4s 6ms/step - loss: 0.3279 - accuracy: 0.9628\n",
      "Epoch 6/10\n",
      "625/625 [==============================] - 4s 6ms/step - loss: 0.2933 - accuracy: 0.9651\n",
      "Epoch 7/10\n",
      "625/625 [==============================] - 4s 6ms/step - loss: 0.2580 - accuracy: 0.9692\n",
      "Epoch 8/10\n",
      "625/625 [==============================] - 4s 6ms/step - loss: 0.2661 - accuracy: 0.9691\n",
      "Epoch 9/10\n",
      "625/625 [==============================] - 4s 7ms/step - loss: 0.3162 - accuracy: 0.9709\n",
      "Epoch 10/10\n",
      "625/625 [==============================] - 4s 6ms/step - loss: 0.2399 - accuracy: 0.9744\n"
     ]
    },
    {
     "name": "stderr",
     "output_type": "stream",
     "text": [
      "C:\\Users\\carlo\\anaconda3\\lib\\site-packages\\tensorflow\\python\\keras\\engine\\sequential.py:450: UserWarning: `model.predict_classes()` is deprecated and will be removed after 2021-01-01. Please use instead:* `np.argmax(model.predict(x), axis=-1)`,   if your model does multi-class classification   (e.g. if it uses a `softmax` last-layer activation).* `(model.predict(x) > 0.5).astype(\"int32\")`,   if your model does binary classification   (e.g. if it uses a `sigmoid` last-layer activation).\n",
      "  warnings.warn('`model.predict_classes()` is deprecated and '\n"
     ]
    },
    {
     "name": "stdout",
     "output_type": "stream",
     "text": [
      "[CV] END ..................act=relu, batch_size=64, opt=adam; total time=  41.1s\n",
      "Hidden Layer: 1 Size of: 1000\n",
      "Epoch 1/10\n",
      "625/625 [==============================] - 4s 6ms/step - loss: 12.3407 - accuracy: 0.8548\n",
      "Epoch 2/10\n",
      "625/625 [==============================] - 4s 6ms/step - loss: 0.3827 - accuracy: 0.9548\n",
      "Epoch 3/10\n",
      "625/625 [==============================] - 4s 6ms/step - loss: 0.2679 - accuracy: 0.9625\n",
      "Epoch 4/10\n",
      "625/625 [==============================] - 4s 6ms/step - loss: 0.2504 - accuracy: 0.9659\n",
      "Epoch 5/10\n",
      "625/625 [==============================] - 4s 6ms/step - loss: 0.2848 - accuracy: 0.9657\n",
      "Epoch 6/10\n",
      "625/625 [==============================] - 4s 6ms/step - loss: 0.2509 - accuracy: 0.9679\n",
      "Epoch 7/10\n",
      "625/625 [==============================] - 4s 6ms/step - loss: 0.2252 - accuracy: 0.9714\n",
      "Epoch 8/10\n",
      "625/625 [==============================] - 4s 7ms/step - loss: 0.2682 - accuracy: 0.9684\n",
      "Epoch 9/10\n",
      "625/625 [==============================] - 4s 7ms/step - loss: 0.2499 - accuracy: 0.9711\n",
      "Epoch 10/10\n",
      "625/625 [==============================] - 4s 6ms/step - loss: 0.2406 - accuracy: 0.9722\n"
     ]
    },
    {
     "name": "stderr",
     "output_type": "stream",
     "text": [
      "C:\\Users\\carlo\\anaconda3\\lib\\site-packages\\tensorflow\\python\\keras\\engine\\sequential.py:450: UserWarning: `model.predict_classes()` is deprecated and will be removed after 2021-01-01. Please use instead:* `np.argmax(model.predict(x), axis=-1)`,   if your model does multi-class classification   (e.g. if it uses a `softmax` last-layer activation).* `(model.predict(x) > 0.5).astype(\"int32\")`,   if your model does binary classification   (e.g. if it uses a `sigmoid` last-layer activation).\n",
      "  warnings.warn('`model.predict_classes()` is deprecated and '\n"
     ]
    },
    {
     "name": "stdout",
     "output_type": "stream",
     "text": [
      "[CV] END ..................act=relu, batch_size=64, opt=adam; total time=  39.4s\n",
      "Hidden Layer: 1 Size of: 1000\n",
      "Epoch 1/10\n",
      "625/625 [==============================] - 4s 6ms/step - loss: 12.6366 - accuracy: 0.8517\n",
      "Epoch 2/10\n",
      "625/625 [==============================] - 4s 6ms/step - loss: 0.4782 - accuracy: 0.9582\n",
      "Epoch 3/10\n",
      "625/625 [==============================] - 4s 7ms/step - loss: 0.2988 - accuracy: 0.9674\n",
      "Epoch 4/10\n",
      "625/625 [==============================] - 6s 9ms/step - loss: 0.3186 - accuracy: 0.9637\n",
      "Epoch 5/10\n",
      "625/625 [==============================] - 5s 8ms/step - loss: 0.2484 - accuracy: 0.9700\n",
      "Epoch 6/10\n",
      "625/625 [==============================] - 4s 6ms/step - loss: 0.3218 - accuracy: 0.9689\n",
      "Epoch 7/10\n",
      "625/625 [==============================] - 4s 7ms/step - loss: 0.3040 - accuracy: 0.9704\n",
      "Epoch 8/10\n",
      "625/625 [==============================] - 4s 7ms/step - loss: 0.2496 - accuracy: 0.9750\n",
      "Epoch 9/10\n",
      "625/625 [==============================] - 4s 7ms/step - loss: 0.2693 - accuracy: 0.9753\n",
      "Epoch 10/10\n",
      "625/625 [==============================] - 5s 7ms/step - loss: 0.2505 - accuracy: 0.9761\n"
     ]
    },
    {
     "name": "stderr",
     "output_type": "stream",
     "text": [
      "C:\\Users\\carlo\\anaconda3\\lib\\site-packages\\tensorflow\\python\\keras\\engine\\sequential.py:450: UserWarning: `model.predict_classes()` is deprecated and will be removed after 2021-01-01. Please use instead:* `np.argmax(model.predict(x), axis=-1)`,   if your model does multi-class classification   (e.g. if it uses a `softmax` last-layer activation).* `(model.predict(x) > 0.5).astype(\"int32\")`,   if your model does binary classification   (e.g. if it uses a `sigmoid` last-layer activation).\n",
      "  warnings.warn('`model.predict_classes()` is deprecated and '\n"
     ]
    },
    {
     "name": "stdout",
     "output_type": "stream",
     "text": [
      "[CV] END ..................act=relu, batch_size=64, opt=adam; total time=  45.0s\n",
      "Hidden Layer: 1 Size of: 1000\n",
      "Epoch 1/10\n",
      "313/313 [==============================] - 3s 7ms/step - loss: 555.6703 - accuracy: 0.6141\n",
      "Epoch 2/10\n",
      "313/313 [==============================] - 3s 9ms/step - loss: 0.4051 - accuracy: 0.8933\n",
      "Epoch 3/10\n",
      "313/313 [==============================] - 3s 9ms/step - loss: 0.3810 - accuracy: 0.9024\n",
      "Epoch 4/10\n",
      "313/313 [==============================] - 2s 7ms/step - loss: 0.2365 - accuracy: 0.9375\n",
      "Epoch 5/10\n",
      "313/313 [==============================] - 2s 6ms/step - loss: 0.1975 - accuracy: 0.9440\n",
      "Epoch 6/10\n",
      "313/313 [==============================] - 2s 6ms/step - loss: 0.1732 - accuracy: 0.9507\n",
      "Epoch 7/10\n",
      "313/313 [==============================] - 2s 6ms/step - loss: 0.1591 - accuracy: 0.9544\n",
      "Epoch 8/10\n",
      "313/313 [==============================] - 2s 6ms/step - loss: 0.1394 - accuracy: 0.9607\n",
      "Epoch 9/10\n",
      "313/313 [==============================] - 2s 6ms/step - loss: 0.1303 - accuracy: 0.9637\n",
      "Epoch 10/10\n",
      "313/313 [==============================] - 2s 6ms/step - loss: 0.1055 - accuracy: 0.9690\n"
     ]
    },
    {
     "name": "stderr",
     "output_type": "stream",
     "text": [
      "C:\\Users\\carlo\\anaconda3\\lib\\site-packages\\tensorflow\\python\\keras\\engine\\sequential.py:450: UserWarning: `model.predict_classes()` is deprecated and will be removed after 2021-01-01. Please use instead:* `np.argmax(model.predict(x), axis=-1)`,   if your model does multi-class classification   (e.g. if it uses a `softmax` last-layer activation).* `(model.predict(x) > 0.5).astype(\"int32\")`,   if your model does binary classification   (e.g. if it uses a `sigmoid` last-layer activation).\n",
      "  warnings.warn('`model.predict_classes()` is deprecated and '\n"
     ]
    },
    {
     "name": "stdout",
     "output_type": "stream",
     "text": [
      "[CV] END ..................act=relu, batch_size=128, opt=sgd; total time=  22.5s\n",
      "Hidden Layer: 1 Size of: 1000\n",
      "Epoch 1/10\n",
      "313/313 [==============================] - 2s 6ms/step - loss: 753.3694 - accuracy: 0.6117\n",
      "Epoch 2/10\n",
      "313/313 [==============================] - 2s 6ms/step - loss: 0.3454 - accuracy: 0.9113\n",
      "Epoch 3/10\n",
      "313/313 [==============================] - 2s 6ms/step - loss: 0.2306 - accuracy: 0.9361\n",
      "Epoch 4/10\n",
      "313/313 [==============================] - 2s 6ms/step - loss: 0.2054 - accuracy: 0.9423\n",
      "Epoch 5/10\n",
      "313/313 [==============================] - 2s 6ms/step - loss: 0.1636 - accuracy: 0.9544\n",
      "Epoch 6/10\n",
      "313/313 [==============================] - 2s 6ms/step - loss: 0.1369 - accuracy: 0.9613\n",
      "Epoch 7/10\n",
      "313/313 [==============================] - 2s 6ms/step - loss: 0.1258 - accuracy: 0.9640\n",
      "Epoch 8/10\n",
      "313/313 [==============================] - 2s 6ms/step - loss: 0.1056 - accuracy: 0.9696\n",
      "Epoch 9/10\n",
      "313/313 [==============================] - 2s 6ms/step - loss: 0.0949 - accuracy: 0.9720\n",
      "Epoch 10/10\n",
      "313/313 [==============================] - 2s 6ms/step - loss: 0.0848 - accuracy: 0.9743\n"
     ]
    },
    {
     "name": "stderr",
     "output_type": "stream",
     "text": [
      "C:\\Users\\carlo\\anaconda3\\lib\\site-packages\\tensorflow\\python\\keras\\engine\\sequential.py:450: UserWarning: `model.predict_classes()` is deprecated and will be removed after 2021-01-01. Please use instead:* `np.argmax(model.predict(x), axis=-1)`,   if your model does multi-class classification   (e.g. if it uses a `softmax` last-layer activation).* `(model.predict(x) > 0.5).astype(\"int32\")`,   if your model does binary classification   (e.g. if it uses a `sigmoid` last-layer activation).\n",
      "  warnings.warn('`model.predict_classes()` is deprecated and '\n"
     ]
    },
    {
     "name": "stdout",
     "output_type": "stream",
     "text": [
      "[CV] END ..................act=relu, batch_size=128, opt=sgd; total time=  20.3s\n",
      "Hidden Layer: 1 Size of: 1000\n",
      "Epoch 1/10\n",
      "313/313 [==============================] - 2s 6ms/step - loss: 431.3161 - accuracy: 0.5667\n",
      "Epoch 2/10\n",
      "313/313 [==============================] - 2s 6ms/step - loss: 0.3685 - accuracy: 0.9029\n",
      "Epoch 3/10\n",
      "313/313 [==============================] - 2s 6ms/step - loss: 0.2677 - accuracy: 0.9276\n",
      "Epoch 4/10\n",
      "313/313 [==============================] - 2s 6ms/step - loss: 0.2195 - accuracy: 0.9412\n",
      "Epoch 5/10\n",
      "313/313 [==============================] - 2s 6ms/step - loss: 0.2015 - accuracy: 0.9474\n",
      "Epoch 6/10\n",
      "313/313 [==============================] - 2s 6ms/step - loss: 0.1650 - accuracy: 0.9547\n",
      "Epoch 7/10\n",
      "313/313 [==============================] - 2s 6ms/step - loss: 0.1420 - accuracy: 0.9598\n",
      "Epoch 8/10\n",
      "313/313 [==============================] - 2s 6ms/step - loss: 0.1225 - accuracy: 0.9638\n",
      "Epoch 9/10\n",
      "313/313 [==============================] - 2s 6ms/step - loss: 0.1191 - accuracy: 0.9654\n",
      "Epoch 10/10\n",
      "313/313 [==============================] - 2s 6ms/step - loss: 0.1023 - accuracy: 0.9697\n"
     ]
    },
    {
     "name": "stderr",
     "output_type": "stream",
     "text": [
      "C:\\Users\\carlo\\anaconda3\\lib\\site-packages\\tensorflow\\python\\keras\\engine\\sequential.py:450: UserWarning: `model.predict_classes()` is deprecated and will be removed after 2021-01-01. Please use instead:* `np.argmax(model.predict(x), axis=-1)`,   if your model does multi-class classification   (e.g. if it uses a `softmax` last-layer activation).* `(model.predict(x) > 0.5).astype(\"int32\")`,   if your model does binary classification   (e.g. if it uses a `sigmoid` last-layer activation).\n",
      "  warnings.warn('`model.predict_classes()` is deprecated and '\n"
     ]
    },
    {
     "name": "stdout",
     "output_type": "stream",
     "text": [
      "[CV] END ..................act=relu, batch_size=128, opt=sgd; total time=  20.2s\n",
      "Hidden Layer: 1 Size of: 1000\n",
      "Epoch 1/10\n",
      "313/313 [==============================] - 3s 7ms/step - loss: 18.2346 - accuracy: 0.8275\n",
      "Epoch 2/10\n",
      "313/313 [==============================] - 2s 7ms/step - loss: 0.7743 - accuracy: 0.9560\n",
      "Epoch 3/10\n",
      "313/313 [==============================] - 2s 8ms/step - loss: 0.3538 - accuracy: 0.9691\n",
      "Epoch 4/10\n",
      "313/313 [==============================] - 2s 8ms/step - loss: 0.2839 - accuracy: 0.9752\n",
      "Epoch 5/10\n",
      "313/313 [==============================] - 2s 7ms/step - loss: 0.1794 - accuracy: 0.9806\n",
      "Epoch 6/10\n",
      "313/313 [==============================] - 2s 7ms/step - loss: 0.1851 - accuracy: 0.9812\n",
      "Epoch 7/10\n",
      "313/313 [==============================] - 2s 7ms/step - loss: 0.1865 - accuracy: 0.9791\n",
      "Epoch 8/10\n",
      "313/313 [==============================] - 2s 7ms/step - loss: 0.2826 - accuracy: 0.9775\n",
      "Epoch 9/10\n",
      "313/313 [==============================] - 2s 7ms/step - loss: 0.1750 - accuracy: 0.9820\n",
      "Epoch 10/10\n",
      "313/313 [==============================] - 2s 7ms/step - loss: 0.2364 - accuracy: 0.9800\n"
     ]
    },
    {
     "name": "stderr",
     "output_type": "stream",
     "text": [
      "C:\\Users\\carlo\\anaconda3\\lib\\site-packages\\tensorflow\\python\\keras\\engine\\sequential.py:450: UserWarning: `model.predict_classes()` is deprecated and will be removed after 2021-01-01. Please use instead:* `np.argmax(model.predict(x), axis=-1)`,   if your model does multi-class classification   (e.g. if it uses a `softmax` last-layer activation).* `(model.predict(x) > 0.5).astype(\"int32\")`,   if your model does binary classification   (e.g. if it uses a `sigmoid` last-layer activation).\n",
      "  warnings.warn('`model.predict_classes()` is deprecated and '\n"
     ]
    },
    {
     "name": "stdout",
     "output_type": "stream",
     "text": [
      "[CV] END .................act=relu, batch_size=128, opt=adam; total time=  23.6s\n",
      "Hidden Layer: 1 Size of: 1000\n",
      "Epoch 1/10\n",
      "313/313 [==============================] - 3s 7ms/step - loss: 13.3967 - accuracy: 0.8432\n",
      "Epoch 2/10\n",
      "313/313 [==============================] - 2s 7ms/step - loss: 0.7960 - accuracy: 0.9570\n",
      "Epoch 3/10\n",
      "313/313 [==============================] - 2s 7ms/step - loss: 0.3286 - accuracy: 0.9715\n",
      "Epoch 4/10\n",
      "313/313 [==============================] - 2s 7ms/step - loss: 0.2357 - accuracy: 0.9769\n",
      "Epoch 5/10\n",
      "313/313 [==============================] - 2s 7ms/step - loss: 0.2029 - accuracy: 0.9798\n",
      "Epoch 6/10\n",
      "313/313 [==============================] - 2s 7ms/step - loss: 0.1856 - accuracy: 0.9819\n",
      "Epoch 7/10\n",
      "313/313 [==============================] - 2s 7ms/step - loss: 0.2180 - accuracy: 0.9786\n",
      "Epoch 8/10\n",
      "313/313 [==============================] - 2s 7ms/step - loss: 0.1781 - accuracy: 0.9819\n",
      "Epoch 9/10\n",
      "313/313 [==============================] - 2s 7ms/step - loss: 0.2223 - accuracy: 0.9791\n",
      "Epoch 10/10\n",
      "313/313 [==============================] - 2s 7ms/step - loss: 0.1829 - accuracy: 0.9830\n"
     ]
    },
    {
     "name": "stderr",
     "output_type": "stream",
     "text": [
      "C:\\Users\\carlo\\anaconda3\\lib\\site-packages\\tensorflow\\python\\keras\\engine\\sequential.py:450: UserWarning: `model.predict_classes()` is deprecated and will be removed after 2021-01-01. Please use instead:* `np.argmax(model.predict(x), axis=-1)`,   if your model does multi-class classification   (e.g. if it uses a `softmax` last-layer activation).* `(model.predict(x) > 0.5).astype(\"int32\")`,   if your model does binary classification   (e.g. if it uses a `sigmoid` last-layer activation).\n",
      "  warnings.warn('`model.predict_classes()` is deprecated and '\n"
     ]
    },
    {
     "name": "stdout",
     "output_type": "stream",
     "text": [
      "[CV] END .................act=relu, batch_size=128, opt=adam; total time=  23.3s\n",
      "Hidden Layer: 1 Size of: 1000\n",
      "Epoch 1/10\n",
      "313/313 [==============================] - 3s 8ms/step - loss: 13.2836 - accuracy: 0.8454\n",
      "Epoch 2/10\n",
      "313/313 [==============================] - 2s 8ms/step - loss: 0.6606 - accuracy: 0.9610\n",
      "Epoch 3/10\n",
      "313/313 [==============================] - 2s 8ms/step - loss: 0.3268 - accuracy: 0.9705\n",
      "Epoch 4/10\n",
      "313/313 [==============================] - 2s 8ms/step - loss: 0.2142 - accuracy: 0.9778\n",
      "Epoch 5/10\n",
      "313/313 [==============================] - 2s 8ms/step - loss: 0.2271 - accuracy: 0.9783\n",
      "Epoch 6/10\n",
      "313/313 [==============================] - 2s 8ms/step - loss: 0.2109 - accuracy: 0.9790\n",
      "Epoch 7/10\n",
      "313/313 [==============================] - 2s 8ms/step - loss: 0.1503 - accuracy: 0.9848\n",
      "Epoch 8/10\n",
      "313/313 [==============================] - 2s 7ms/step - loss: 0.1641 - accuracy: 0.9828\n",
      "Epoch 9/10\n",
      "313/313 [==============================] - 2s 7ms/step - loss: 0.2249 - accuracy: 0.9795\n",
      "Epoch 10/10\n",
      "313/313 [==============================] - 2s 7ms/step - loss: 0.1942 - accuracy: 0.9840\n"
     ]
    },
    {
     "name": "stderr",
     "output_type": "stream",
     "text": [
      "C:\\Users\\carlo\\anaconda3\\lib\\site-packages\\tensorflow\\python\\keras\\engine\\sequential.py:450: UserWarning: `model.predict_classes()` is deprecated and will be removed after 2021-01-01. Please use instead:* `np.argmax(model.predict(x), axis=-1)`,   if your model does multi-class classification   (e.g. if it uses a `softmax` last-layer activation).* `(model.predict(x) > 0.5).astype(\"int32\")`,   if your model does binary classification   (e.g. if it uses a `sigmoid` last-layer activation).\n",
      "  warnings.warn('`model.predict_classes()` is deprecated and '\n"
     ]
    },
    {
     "name": "stdout",
     "output_type": "stream",
     "text": [
      "[CV] END .................act=relu, batch_size=128, opt=adam; total time=  24.9s\n",
      "Hidden Layer: 1 Size of: 1000\n",
      "Epoch 1/10\n",
      "625/625 [==============================] - 3s 5ms/step - loss: 0.8579 - accuracy: 0.7597\n",
      "Epoch 2/10\n",
      "625/625 [==============================] - 3s 5ms/step - loss: 0.3035 - accuracy: 0.9199\n",
      "Epoch 3/10\n",
      "625/625 [==============================] - 4s 6ms/step - loss: 0.2363 - accuracy: 0.9377\n",
      "Epoch 4/10\n",
      "625/625 [==============================] - 4s 6ms/step - loss: 0.2017 - accuracy: 0.9472\n",
      "Epoch 5/10\n",
      "625/625 [==============================] - 3s 5ms/step - loss: 0.1845 - accuracy: 0.9512\n",
      "Epoch 6/10\n",
      "625/625 [==============================] - 3s 5ms/step - loss: 0.1615 - accuracy: 0.9574\n",
      "Epoch 7/10\n",
      "625/625 [==============================] - 4s 7ms/step - loss: 0.1411 - accuracy: 0.9641\n",
      "Epoch 8/10\n",
      "625/625 [==============================] - 3s 5ms/step - loss: 0.1278 - accuracy: 0.9687\n",
      "Epoch 9/10\n",
      "625/625 [==============================] - 4s 6ms/step - loss: 0.1183 - accuracy: 0.9709\n",
      "Epoch 10/10\n",
      "625/625 [==============================] - 3s 5ms/step - loss: 0.1080 - accuracy: 0.9744\n"
     ]
    },
    {
     "name": "stderr",
     "output_type": "stream",
     "text": [
      "C:\\Users\\carlo\\anaconda3\\lib\\site-packages\\tensorflow\\python\\keras\\engine\\sequential.py:450: UserWarning: `model.predict_classes()` is deprecated and will be removed after 2021-01-01. Please use instead:* `np.argmax(model.predict(x), axis=-1)`,   if your model does multi-class classification   (e.g. if it uses a `softmax` last-layer activation).* `(model.predict(x) > 0.5).astype(\"int32\")`,   if your model does binary classification   (e.g. if it uses a `sigmoid` last-layer activation).\n",
      "  warnings.warn('`model.predict_classes()` is deprecated and '\n"
     ]
    },
    {
     "name": "stdout",
     "output_type": "stream",
     "text": [
      "[CV] END ................act=sigmoid, batch_size=64, opt=sgd; total time=  35.5s\n",
      "Hidden Layer: 1 Size of: 1000\n",
      "Epoch 1/10\n",
      "625/625 [==============================] - 3s 5ms/step - loss: 0.8431 - accuracy: 0.7657\n",
      "Epoch 2/10\n",
      "625/625 [==============================] - 4s 7ms/step - loss: 0.2976 - accuracy: 0.9216\n",
      "Epoch 3/10\n",
      "625/625 [==============================] - 3s 5ms/step - loss: 0.2339 - accuracy: 0.9375\n",
      "Epoch 4/10\n",
      "625/625 [==============================] - 4s 6ms/step - loss: 0.2005 - accuracy: 0.9471\n",
      "Epoch 5/10\n",
      "625/625 [==============================] - 5s 8ms/step - loss: 0.1731 - accuracy: 0.9536\n",
      "Epoch 6/10\n",
      "625/625 [==============================] - 4s 7ms/step - loss: 0.1535 - accuracy: 0.9590\n",
      "Epoch 7/10\n",
      "625/625 [==============================] - 4s 7ms/step - loss: 0.1386 - accuracy: 0.9654\n",
      "Epoch 8/10\n",
      "625/625 [==============================] - 5s 8ms/step - loss: 0.1236 - accuracy: 0.9704\n",
      "Epoch 9/10\n",
      "625/625 [==============================] - 4s 6ms/step - loss: 0.1140 - accuracy: 0.9729\n",
      "Epoch 10/10\n",
      "625/625 [==============================] - 4s 6ms/step - loss: 0.1001 - accuracy: 0.9765\n"
     ]
    },
    {
     "name": "stderr",
     "output_type": "stream",
     "text": [
      "C:\\Users\\carlo\\anaconda3\\lib\\site-packages\\tensorflow\\python\\keras\\engine\\sequential.py:450: UserWarning: `model.predict_classes()` is deprecated and will be removed after 2021-01-01. Please use instead:* `np.argmax(model.predict(x), axis=-1)`,   if your model does multi-class classification   (e.g. if it uses a `softmax` last-layer activation).* `(model.predict(x) > 0.5).astype(\"int32\")`,   if your model does binary classification   (e.g. if it uses a `sigmoid` last-layer activation).\n",
      "  warnings.warn('`model.predict_classes()` is deprecated and '\n"
     ]
    },
    {
     "name": "stdout",
     "output_type": "stream",
     "text": [
      "[CV] END ................act=sigmoid, batch_size=64, opt=sgd; total time=  42.6s\n",
      "Hidden Layer: 1 Size of: 1000\n",
      "Epoch 1/10\n",
      "625/625 [==============================] - 4s 5ms/step - loss: 0.8597 - accuracy: 0.7610\n",
      "Epoch 2/10\n",
      "625/625 [==============================] - 3s 5ms/step - loss: 0.3091 - accuracy: 0.9165\n",
      "Epoch 3/10\n",
      "625/625 [==============================] - 4s 6ms/step - loss: 0.2422 - accuracy: 0.9344\n",
      "Epoch 4/10\n",
      "625/625 [==============================] - 4s 7ms/step - loss: 0.2059 - accuracy: 0.9439\n",
      "Epoch 5/10\n",
      "625/625 [==============================] - 4s 7ms/step - loss: 0.1770 - accuracy: 0.9532\n",
      "Epoch 6/10\n",
      "625/625 [==============================] - 4s 7ms/step - loss: 0.1559 - accuracy: 0.9592\n",
      "Epoch 7/10\n",
      "625/625 [==============================] - 4s 6ms/step - loss: 0.1448 - accuracy: 0.9628\n",
      "Epoch 8/10\n",
      "625/625 [==============================] - 3s 5ms/step - loss: 0.1261 - accuracy: 0.9678\n",
      "Epoch 9/10\n",
      "625/625 [==============================] - 3s 5ms/step - loss: 0.1166 - accuracy: 0.9702\n",
      "Epoch 10/10\n",
      "625/625 [==============================] - 3s 5ms/step - loss: 0.1057 - accuracy: 0.9739\n"
     ]
    },
    {
     "name": "stderr",
     "output_type": "stream",
     "text": [
      "C:\\Users\\carlo\\anaconda3\\lib\\site-packages\\tensorflow\\python\\keras\\engine\\sequential.py:450: UserWarning: `model.predict_classes()` is deprecated and will be removed after 2021-01-01. Please use instead:* `np.argmax(model.predict(x), axis=-1)`,   if your model does multi-class classification   (e.g. if it uses a `softmax` last-layer activation).* `(model.predict(x) > 0.5).astype(\"int32\")`,   if your model does binary classification   (e.g. if it uses a `sigmoid` last-layer activation).\n",
      "  warnings.warn('`model.predict_classes()` is deprecated and '\n"
     ]
    },
    {
     "name": "stdout",
     "output_type": "stream",
     "text": [
      "[CV] END ................act=sigmoid, batch_size=64, opt=sgd; total time=  38.1s\n",
      "Hidden Layer: 1 Size of: 1000\n",
      "Epoch 1/10\n",
      "625/625 [==============================] - 5s 7ms/step - loss: 0.5550 - accuracy: 0.8402\n",
      "Epoch 2/10\n",
      "625/625 [==============================] - 5s 7ms/step - loss: 0.2748 - accuracy: 0.9240\n",
      "Epoch 3/10\n",
      "625/625 [==============================] - 5s 9ms/step - loss: 0.2518 - accuracy: 0.9291\n",
      "Epoch 4/10\n",
      "625/625 [==============================] - 6s 9ms/step - loss: 0.2260 - accuracy: 0.9350\n",
      "Epoch 5/10\n",
      "625/625 [==============================] - 5s 8ms/step - loss: 0.2165 - accuracy: 0.9373\n",
      "Epoch 6/10\n",
      "625/625 [==============================] - 5s 8ms/step - loss: 0.2085 - accuracy: 0.9390\n",
      "Epoch 7/10\n",
      "625/625 [==============================] - 5s 7ms/step - loss: 0.1943 - accuracy: 0.9410\n",
      "Epoch 8/10\n",
      "625/625 [==============================] - 4s 7ms/step - loss: 0.1879 - accuracy: 0.9439\n",
      "Epoch 9/10\n",
      "625/625 [==============================] - 4s 7ms/step - loss: 0.1977 - accuracy: 0.9418\n",
      "Epoch 10/10\n",
      "625/625 [==============================] - 4s 7ms/step - loss: 0.1906 - accuracy: 0.9435\n"
     ]
    },
    {
     "name": "stderr",
     "output_type": "stream",
     "text": [
      "C:\\Users\\carlo\\anaconda3\\lib\\site-packages\\tensorflow\\python\\keras\\engine\\sequential.py:450: UserWarning: `model.predict_classes()` is deprecated and will be removed after 2021-01-01. Please use instead:* `np.argmax(model.predict(x), axis=-1)`,   if your model does multi-class classification   (e.g. if it uses a `softmax` last-layer activation).* `(model.predict(x) > 0.5).astype(\"int32\")`,   if your model does binary classification   (e.g. if it uses a `sigmoid` last-layer activation).\n",
      "  warnings.warn('`model.predict_classes()` is deprecated and '\n"
     ]
    },
    {
     "name": "stdout",
     "output_type": "stream",
     "text": [
      "[CV] END ...............act=sigmoid, batch_size=64, opt=adam; total time=  49.7s\n",
      "Hidden Layer: 1 Size of: 1000\n",
      "Epoch 1/10\n",
      "625/625 [==============================] - 4s 6ms/step - loss: 0.5449 - accuracy: 0.8424\n",
      "Epoch 2/10\n",
      "625/625 [==============================] - 4s 6ms/step - loss: 0.2671 - accuracy: 0.9274\n",
      "Epoch 3/10\n",
      "625/625 [==============================] - 3s 5ms/step - loss: 0.2499 - accuracy: 0.9270\n",
      "Epoch 4/10\n",
      "625/625 [==============================] - 4s 6ms/step - loss: 0.2221 - accuracy: 0.9369\n",
      "Epoch 5/10\n",
      "625/625 [==============================] - 4s 6ms/step - loss: 0.2049 - accuracy: 0.9411\n",
      "Epoch 6/10\n",
      "625/625 [==============================] - 4s 6ms/step - loss: 0.2004 - accuracy: 0.9412\n",
      "Epoch 7/10\n",
      "625/625 [==============================] - 4s 7ms/step - loss: 0.2012 - accuracy: 0.9397\n",
      "Epoch 8/10\n",
      "625/625 [==============================] - 5s 8ms/step - loss: 0.1957 - accuracy: 0.9422\n",
      "Epoch 9/10\n",
      "625/625 [==============================] - 4s 7ms/step - loss: 0.1864 - accuracy: 0.9434\n",
      "Epoch 10/10\n",
      "625/625 [==============================] - 4s 6ms/step - loss: 0.1891 - accuracy: 0.9429\n"
     ]
    },
    {
     "name": "stderr",
     "output_type": "stream",
     "text": [
      "C:\\Users\\carlo\\anaconda3\\lib\\site-packages\\tensorflow\\python\\keras\\engine\\sequential.py:450: UserWarning: `model.predict_classes()` is deprecated and will be removed after 2021-01-01. Please use instead:* `np.argmax(model.predict(x), axis=-1)`,   if your model does multi-class classification   (e.g. if it uses a `softmax` last-layer activation).* `(model.predict(x) > 0.5).astype(\"int32\")`,   if your model does binary classification   (e.g. if it uses a `sigmoid` last-layer activation).\n",
      "  warnings.warn('`model.predict_classes()` is deprecated and '\n"
     ]
    },
    {
     "name": "stdout",
     "output_type": "stream",
     "text": [
      "[CV] END ...............act=sigmoid, batch_size=64, opt=adam; total time=  40.6s\n",
      "Hidden Layer: 1 Size of: 1000\n",
      "Epoch 1/10\n",
      "625/625 [==============================] - 5s 7ms/step - loss: 0.5556 - accuracy: 0.8433\n",
      "Epoch 2/10\n",
      "625/625 [==============================] - 4s 6ms/step - loss: 0.2784 - accuracy: 0.9214\n",
      "Epoch 3/10\n",
      "625/625 [==============================] - 4s 6ms/step - loss: 0.2465 - accuracy: 0.9296\n",
      "Epoch 4/10\n",
      "625/625 [==============================] - 4s 6ms/step - loss: 0.2367 - accuracy: 0.9326\n",
      "Epoch 5/10\n",
      "625/625 [==============================] - 5s 7ms/step - loss: 0.2176 - accuracy: 0.9375\n",
      "Epoch 6/10\n",
      "625/625 [==============================] - 5s 8ms/step - loss: 0.2073 - accuracy: 0.9383\n",
      "Epoch 7/10\n",
      "625/625 [==============================] - 4s 7ms/step - loss: 0.1904 - accuracy: 0.9438\n",
      "Epoch 8/10\n",
      "625/625 [==============================] - 4s 6ms/step - loss: 0.1972 - accuracy: 0.9426\n",
      "Epoch 9/10\n",
      "625/625 [==============================] - 4s 6ms/step - loss: 0.1862 - accuracy: 0.9445\n",
      "Epoch 10/10\n",
      "625/625 [==============================] - 4s 6ms/step - loss: 0.1772 - accuracy: 0.9480\n"
     ]
    },
    {
     "name": "stderr",
     "output_type": "stream",
     "text": [
      "C:\\Users\\carlo\\anaconda3\\lib\\site-packages\\tensorflow\\python\\keras\\engine\\sequential.py:450: UserWarning: `model.predict_classes()` is deprecated and will be removed after 2021-01-01. Please use instead:* `np.argmax(model.predict(x), axis=-1)`,   if your model does multi-class classification   (e.g. if it uses a `softmax` last-layer activation).* `(model.predict(x) > 0.5).astype(\"int32\")`,   if your model does binary classification   (e.g. if it uses a `sigmoid` last-layer activation).\n",
      "  warnings.warn('`model.predict_classes()` is deprecated and '\n"
     ]
    },
    {
     "name": "stdout",
     "output_type": "stream",
     "text": [
      "[CV] END ...............act=sigmoid, batch_size=64, opt=adam; total time=  42.4s\n",
      "Hidden Layer: 1 Size of: 1000\n",
      "Epoch 1/10\n",
      "313/313 [==============================] - 2s 6ms/step - loss: 1.0868 - accuracy: 0.6886\n",
      "Epoch 2/10\n",
      "313/313 [==============================] - 2s 6ms/step - loss: 0.3608 - accuracy: 0.9085\n",
      "Epoch 3/10\n",
      "313/313 [==============================] - 2s 7ms/step - loss: 0.2914 - accuracy: 0.9242\n",
      "Epoch 4/10\n",
      "313/313 [==============================] - 2s 6ms/step - loss: 0.2415 - accuracy: 0.9381\n",
      "Epoch 5/10\n",
      "313/313 [==============================] - 2s 6ms/step - loss: 0.2154 - accuracy: 0.9447\n",
      "Epoch 6/10\n",
      "313/313 [==============================] - 2s 7ms/step - loss: 0.1904 - accuracy: 0.9513\n",
      "Epoch 7/10\n",
      "313/313 [==============================] - 2s 7ms/step - loss: 0.1742 - accuracy: 0.9566\n",
      "Epoch 8/10\n",
      "313/313 [==============================] - 2s 7ms/step - loss: 0.1566 - accuracy: 0.9627\n",
      "Epoch 9/10\n",
      "313/313 [==============================] - 2s 7ms/step - loss: 0.1466 - accuracy: 0.9652\n",
      "Epoch 10/10\n",
      "313/313 [==============================] - 2s 7ms/step - loss: 0.1365 - accuracy: 0.9688\n"
     ]
    },
    {
     "name": "stderr",
     "output_type": "stream",
     "text": [
      "C:\\Users\\carlo\\anaconda3\\lib\\site-packages\\tensorflow\\python\\keras\\engine\\sequential.py:450: UserWarning: `model.predict_classes()` is deprecated and will be removed after 2021-01-01. Please use instead:* `np.argmax(model.predict(x), axis=-1)`,   if your model does multi-class classification   (e.g. if it uses a `softmax` last-layer activation).* `(model.predict(x) > 0.5).astype(\"int32\")`,   if your model does binary classification   (e.g. if it uses a `sigmoid` last-layer activation).\n",
      "  warnings.warn('`model.predict_classes()` is deprecated and '\n"
     ]
    },
    {
     "name": "stdout",
     "output_type": "stream",
     "text": [
      "[CV] END ...............act=sigmoid, batch_size=128, opt=sgd; total time=  21.8s\n",
      "Hidden Layer: 1 Size of: 1000\n",
      "Epoch 1/10\n",
      "313/313 [==============================] - 2s 7ms/step - loss: 1.0200 - accuracy: 0.7148\n",
      "Epoch 2/10\n",
      "313/313 [==============================] - 2s 7ms/step - loss: 0.3582 - accuracy: 0.9066\n",
      "Epoch 3/10\n",
      "313/313 [==============================] - 2s 7ms/step - loss: 0.2823 - accuracy: 0.9270\n",
      "Epoch 4/10\n",
      "313/313 [==============================] - 2s 7ms/step - loss: 0.2402 - accuracy: 0.9391\n",
      "Epoch 5/10\n",
      "313/313 [==============================] - 2s 7ms/step - loss: 0.2096 - accuracy: 0.9468\n",
      "Epoch 6/10\n",
      "313/313 [==============================] - 2s 7ms/step - loss: 0.1943 - accuracy: 0.9494\n",
      "Epoch 7/10\n",
      "313/313 [==============================] - 2s 7ms/step - loss: 0.1726 - accuracy: 0.9568\n",
      "Epoch 8/10\n",
      "313/313 [==============================] - 2s 7ms/step - loss: 0.1583 - accuracy: 0.9610\n",
      "Epoch 9/10\n",
      "313/313 [==============================] - 2s 7ms/step - loss: 0.1429 - accuracy: 0.9656\n",
      "Epoch 10/10\n",
      "313/313 [==============================] - 3s 8ms/step - loss: 0.1360 - accuracy: 0.9684\n"
     ]
    },
    {
     "name": "stderr",
     "output_type": "stream",
     "text": [
      "C:\\Users\\carlo\\anaconda3\\lib\\site-packages\\tensorflow\\python\\keras\\engine\\sequential.py:450: UserWarning: `model.predict_classes()` is deprecated and will be removed after 2021-01-01. Please use instead:* `np.argmax(model.predict(x), axis=-1)`,   if your model does multi-class classification   (e.g. if it uses a `softmax` last-layer activation).* `(model.predict(x) > 0.5).astype(\"int32\")`,   if your model does binary classification   (e.g. if it uses a `sigmoid` last-layer activation).\n",
      "  warnings.warn('`model.predict_classes()` is deprecated and '\n"
     ]
    },
    {
     "name": "stdout",
     "output_type": "stream",
     "text": [
      "[CV] END ...............act=sigmoid, batch_size=128, opt=sgd; total time=  22.8s\n",
      "Hidden Layer: 1 Size of: 1000\n",
      "Epoch 1/10\n",
      "313/313 [==============================] - 2s 6ms/step - loss: 1.0993 - accuracy: 0.6850\n",
      "Epoch 2/10\n",
      "313/313 [==============================] - 2s 6ms/step - loss: 0.3775 - accuracy: 0.9006\n",
      "Epoch 3/10\n",
      "313/313 [==============================] - 2s 7ms/step - loss: 0.2881 - accuracy: 0.9243\n",
      "Epoch 4/10\n",
      "313/313 [==============================] - 2s 6ms/step - loss: 0.2416 - accuracy: 0.9385\n",
      "Epoch 5/10\n",
      "313/313 [==============================] - 2s 7ms/step - loss: 0.2166 - accuracy: 0.9426\n",
      "Epoch 6/10\n",
      "313/313 [==============================] - 2s 6ms/step - loss: 0.1905 - accuracy: 0.9514\n",
      "Epoch 7/10\n",
      "313/313 [==============================] - 2s 7ms/step - loss: 0.1758 - accuracy: 0.9554\n",
      "Epoch 8/10\n",
      "313/313 [==============================] - 2s 6ms/step - loss: 0.1567 - accuracy: 0.9626\n",
      "Epoch 9/10\n",
      "313/313 [==============================] - 2s 7ms/step - loss: 0.1496 - accuracy: 0.9633\n",
      "Epoch 10/10\n",
      "313/313 [==============================] - 2s 7ms/step - loss: 0.1327 - accuracy: 0.9687\n"
     ]
    },
    {
     "name": "stderr",
     "output_type": "stream",
     "text": [
      "C:\\Users\\carlo\\anaconda3\\lib\\site-packages\\tensorflow\\python\\keras\\engine\\sequential.py:450: UserWarning: `model.predict_classes()` is deprecated and will be removed after 2021-01-01. Please use instead:* `np.argmax(model.predict(x), axis=-1)`,   if your model does multi-class classification   (e.g. if it uses a `softmax` last-layer activation).* `(model.predict(x) > 0.5).astype(\"int32\")`,   if your model does binary classification   (e.g. if it uses a `sigmoid` last-layer activation).\n",
      "  warnings.warn('`model.predict_classes()` is deprecated and '\n"
     ]
    },
    {
     "name": "stdout",
     "output_type": "stream",
     "text": [
      "[CV] END ...............act=sigmoid, batch_size=128, opt=sgd; total time=  21.9s\n",
      "Hidden Layer: 1 Size of: 1000\n",
      "Epoch 1/10\n",
      "313/313 [==============================] - 3s 8ms/step - loss: 0.5888 - accuracy: 0.8286\n",
      "Epoch 2/10\n",
      "313/313 [==============================] - 3s 9ms/step - loss: 0.2458 - accuracy: 0.9319\n",
      "Epoch 3/10\n",
      "313/313 [==============================] - 3s 8ms/step - loss: 0.2275 - accuracy: 0.9378: 0s - loss: 0.2278 - accu\n",
      "Epoch 4/10\n",
      "313/313 [==============================] - 3s 8ms/step - loss: 0.2116 - accuracy: 0.9403\n",
      "Epoch 5/10\n",
      "313/313 [==============================] - 3s 8ms/step - loss: 0.1997 - accuracy: 0.9433\n",
      "Epoch 6/10\n",
      "313/313 [==============================] - 2s 8ms/step - loss: 0.1841 - accuracy: 0.9472\n",
      "Epoch 7/10\n",
      "313/313 [==============================] - 3s 9ms/step - loss: 0.1828 - accuracy: 0.9457\n",
      "Epoch 8/10\n",
      "313/313 [==============================] - 3s 11ms/step - loss: 0.1694 - accuracy: 0.9516\n",
      "Epoch 9/10\n",
      "313/313 [==============================] - 3s 10ms/step - loss: 0.1651 - accuracy: 0.9531\n",
      "Epoch 10/10\n",
      "313/313 [==============================] - 3s 9ms/step - loss: 0.1661 - accuracy: 0.9503\n"
     ]
    },
    {
     "name": "stderr",
     "output_type": "stream",
     "text": [
      "C:\\Users\\carlo\\anaconda3\\lib\\site-packages\\tensorflow\\python\\keras\\engine\\sequential.py:450: UserWarning: `model.predict_classes()` is deprecated and will be removed after 2021-01-01. Please use instead:* `np.argmax(model.predict(x), axis=-1)`,   if your model does multi-class classification   (e.g. if it uses a `softmax` last-layer activation).* `(model.predict(x) > 0.5).astype(\"int32\")`,   if your model does binary classification   (e.g. if it uses a `sigmoid` last-layer activation).\n",
      "  warnings.warn('`model.predict_classes()` is deprecated and '\n"
     ]
    },
    {
     "name": "stdout",
     "output_type": "stream",
     "text": [
      "[CV] END ..............act=sigmoid, batch_size=128, opt=adam; total time=  28.6s\n",
      "Hidden Layer: 1 Size of: 1000\n",
      "Epoch 1/10\n",
      "313/313 [==============================] - 4s 9ms/step - loss: 0.6021 - accuracy: 0.8277\n",
      "Epoch 2/10\n",
      "313/313 [==============================] - 3s 9ms/step - loss: 0.2468 - accuracy: 0.9329\n",
      "Epoch 3/10\n",
      "313/313 [==============================] - 3s 8ms/step - loss: 0.2258 - accuracy: 0.9375\n",
      "Epoch 4/10\n",
      "313/313 [==============================] - 3s 10ms/step - loss: 0.2012 - accuracy: 0.9437\n",
      "Epoch 5/10\n",
      "313/313 [==============================] - 3s 8ms/step - loss: 0.1935 - accuracy: 0.9453\n",
      "Epoch 6/10\n",
      "313/313 [==============================] - 3s 9ms/step - loss: 0.1947 - accuracy: 0.9433\n",
      "Epoch 7/10\n",
      "313/313 [==============================] - 3s 9ms/step - loss: 0.1887 - accuracy: 0.9477\n",
      "Epoch 8/10\n",
      "313/313 [==============================] - 3s 9ms/step - loss: 0.1657 - accuracy: 0.9525\n",
      "Epoch 9/10\n",
      "313/313 [==============================] - 3s 8ms/step - loss: 0.1605 - accuracy: 0.9530\n",
      "Epoch 10/10\n",
      "313/313 [==============================] - 3s 8ms/step - loss: 0.1654 - accuracy: 0.9520\n"
     ]
    },
    {
     "name": "stderr",
     "output_type": "stream",
     "text": [
      "C:\\Users\\carlo\\anaconda3\\lib\\site-packages\\tensorflow\\python\\keras\\engine\\sequential.py:450: UserWarning: `model.predict_classes()` is deprecated and will be removed after 2021-01-01. Please use instead:* `np.argmax(model.predict(x), axis=-1)`,   if your model does multi-class classification   (e.g. if it uses a `softmax` last-layer activation).* `(model.predict(x) > 0.5).astype(\"int32\")`,   if your model does binary classification   (e.g. if it uses a `sigmoid` last-layer activation).\n",
      "  warnings.warn('`model.predict_classes()` is deprecated and '\n"
     ]
    },
    {
     "name": "stdout",
     "output_type": "stream",
     "text": [
      "[CV] END ..............act=sigmoid, batch_size=128, opt=adam; total time=  28.7s\n",
      "Hidden Layer: 1 Size of: 1000\n",
      "Epoch 1/10\n",
      "313/313 [==============================] - 3s 8ms/step - loss: 0.6079 - accuracy: 0.8264\n",
      "Epoch 2/10\n",
      "313/313 [==============================] - 3s 8ms/step - loss: 0.2487 - accuracy: 0.9287\n",
      "Epoch 3/10\n",
      "313/313 [==============================] - 3s 9ms/step - loss: 0.2135 - accuracy: 0.9404\n",
      "Epoch 4/10\n",
      "313/313 [==============================] - 2s 8ms/step - loss: 0.2072 - accuracy: 0.9411\n",
      "Epoch 5/10\n",
      "313/313 [==============================] - 2s 7ms/step - loss: 0.1966 - accuracy: 0.9445\n",
      "Epoch 6/10\n",
      "313/313 [==============================] - 3s 8ms/step - loss: 0.1822 - accuracy: 0.9476\n",
      "Epoch 7/10\n",
      "313/313 [==============================] - 3s 8ms/step - loss: 0.1725 - accuracy: 0.9498\n",
      "Epoch 8/10\n",
      "313/313 [==============================] - 2s 8ms/step - loss: 0.1638 - accuracy: 0.9520\n",
      "Epoch 9/10\n",
      "313/313 [==============================] - 2s 8ms/step - loss: 0.1637 - accuracy: 0.9514\n",
      "Epoch 10/10\n",
      "313/313 [==============================] - 2s 8ms/step - loss: 0.1543 - accuracy: 0.9548\n"
     ]
    },
    {
     "name": "stderr",
     "output_type": "stream",
     "text": [
      "C:\\Users\\carlo\\anaconda3\\lib\\site-packages\\tensorflow\\python\\keras\\engine\\sequential.py:450: UserWarning: `model.predict_classes()` is deprecated and will be removed after 2021-01-01. Please use instead:* `np.argmax(model.predict(x), axis=-1)`,   if your model does multi-class classification   (e.g. if it uses a `softmax` last-layer activation).* `(model.predict(x) > 0.5).astype(\"int32\")`,   if your model does binary classification   (e.g. if it uses a `sigmoid` last-layer activation).\n",
      "  warnings.warn('`model.predict_classes()` is deprecated and '\n"
     ]
    },
    {
     "name": "stdout",
     "output_type": "stream",
     "text": [
      "[CV] END ..............act=sigmoid, batch_size=128, opt=adam; total time=  26.2s\n",
      "Hidden Layer: 1 Size of: 1000\n",
      "Epoch 1/10\n",
      "469/469 [==============================] - 4s 7ms/step - loss: 13.1496 - accuracy: 0.8539\n",
      "Epoch 2/10\n",
      "469/469 [==============================] - 4s 8ms/step - loss: 0.5478 - accuracy: 0.9599\n",
      "Epoch 3/10\n",
      "469/469 [==============================] - 4s 8ms/step - loss: 0.2486 - accuracy: 0.9724\n",
      "Epoch 4/10\n",
      "469/469 [==============================] - 4s 9ms/step - loss: 0.1678 - accuracy: 0.9788\n",
      "Epoch 5/10\n",
      "469/469 [==============================] - 4s 8ms/step - loss: 0.1760 - accuracy: 0.9772\n",
      "Epoch 6/10\n",
      "469/469 [==============================] - 4s 8ms/step - loss: 0.1882 - accuracy: 0.9775\n",
      "Epoch 7/10\n",
      "469/469 [==============================] - 4s 8ms/step - loss: 0.1455 - accuracy: 0.9814\n",
      "Epoch 8/10\n",
      "469/469 [==============================] - 5s 10ms/step - loss: 0.1936 - accuracy: 0.9780\n",
      "Epoch 9/10\n",
      "469/469 [==============================] - 5s 10ms/step - loss: 0.1749 - accuracy: 0.9789\n",
      "Epoch 10/10\n",
      "469/469 [==============================] - 4s 8ms/step - loss: 0.2009 - accuracy: 0.9786\n",
      "\n",
      "Best parameters:  {'act': 'relu', 'batch_size': 128, 'opt': 'adam'}\n"
     ]
    }
   ],
   "source": [
    "from keras.wrappers.scikit_learn import KerasClassifier\n",
    "\n",
    "def nn_params_search(nn, X, y, param_grid): # 30 points\n",
    "    '''Search best paramaters\n",
    "    \n",
    "    Parameters\n",
    "    ----------\n",
    "    X_train: features\n",
    "    y_train: target of the input\n",
    "    param_grid: a dict that defines the parameters\n",
    "    \n",
    "    Returns\n",
    "    -------\n",
    "    best_params_\n",
    "        \n",
    "    '''\n",
    "    ## add your code here. set cv = 3, scoring = 'accuracy', and verbose = 2\n",
    "    grid = GridSearchCV(estimator=nn, cv = 3, scoring = 'accuracy', verbose = 2, param_grid=param_grid)\n",
    "    results = grid.fit(X, y)\n",
    "    return results.best_params_\n",
    "    \n",
    "    ##\n",
    "\n",
    "# wrap keras model to use in sklearn\n",
    "nn = KerasClassifier(build_fn = create_NN, batch_size = 64, epochs = 10) # using the keras wapper\n",
    "param_grid = {'batch_size': [64, 128], \n",
    "              'act':['relu', 'sigmoid'], 'opt': ['sgd', 'adam']}\n",
    "\n",
    "best_params = nn_params_search(nn, X_train, y_train, param_grid = param_grid)\n",
    "print('\\nBest parameters: ', best_params)"
   ]
  },
  {
   "cell_type": "markdown",
   "metadata": {},
   "source": [
    "### 4. Retrain a neural network using the best parameters. 10 points\n",
    "    - Compelte the retrain_test_nn function to create (create_NN) and train (fit) a new nn using parameters in best_params\n",
    "    - The default epoches are 20 and each epoch may take around 10 to 20 seconds; and you can increase this value to get better results"
   ]
  },
  {
   "cell_type": "code",
   "execution_count": 9,
   "metadata": {
    "scrolled": true
   },
   "outputs": [
    {
     "name": "stdout",
     "output_type": "stream",
     "text": [
      "Hidden Layer: 1 Size of: 1000\n",
      "Hidden Layer: 2 Size of: 500\n",
      "Model: \"sequential_27\"\n",
      "_________________________________________________________________\n",
      "Layer (type)                 Output Shape              Param #   \n",
      "=================================================================\n",
      "dense_53 (Dense)             (None, 1000)              785000    \n",
      "_________________________________________________________________\n",
      "dense_54 (Dense)             (None, 500)               500500    \n",
      "_________________________________________________________________\n",
      "dense_55 (Dense)             (None, 10)                5010      \n",
      "=================================================================\n",
      "Total params: 1,290,510\n",
      "Trainable params: 1,290,510\n",
      "Non-trainable params: 0\n",
      "_________________________________________________________________\n",
      "Epoch 1/20\n",
      "469/469 [==============================] - 9s 17ms/step - loss: 8.8774 - accuracy: 0.8505\n",
      "Epoch 2/20\n",
      "469/469 [==============================] - 8s 17ms/step - loss: 0.1828 - accuracy: 0.9601\n",
      "Epoch 3/20\n",
      "469/469 [==============================] - 8s 17ms/step - loss: 0.1128 - accuracy: 0.9711\n",
      "Epoch 4/20\n",
      "469/469 [==============================] - 8s 16ms/step - loss: 0.1000 - accuracy: 0.9748\n",
      "Epoch 5/20\n",
      "469/469 [==============================] - 8s 17ms/step - loss: 0.1107 - accuracy: 0.9736\n",
      "Epoch 6/20\n",
      "469/469 [==============================] - 9s 19ms/step - loss: 0.0763 - accuracy: 0.9804\n",
      "Epoch 7/20\n",
      "469/469 [==============================] - 7s 15ms/step - loss: 0.0865 - accuracy: 0.9784\n",
      "Epoch 8/20\n",
      "469/469 [==============================] - 9s 19ms/step - loss: 0.0793 - accuracy: 0.9798\n",
      "Epoch 9/20\n",
      "469/469 [==============================] - 9s 20ms/step - loss: 0.0677 - accuracy: 0.9815 2s - l - ETA: 2s - loss: 0.0643 - accuracy: 0. - ETA: 1s - loss: 0\n",
      "Epoch 10/20\n",
      "469/469 [==============================] - 9s 19ms/step - loss: 0.0768 - accuracy: 0.9804\n",
      "Epoch 11/20\n",
      "469/469 [==============================] - 8s 18ms/step - loss: 0.0485 - accuracy: 0.9870\n",
      "Epoch 12/20\n",
      "469/469 [==============================] - 10s 21ms/step - loss: 0.0696 - accuracy: 0.9836\n",
      "Epoch 13/20\n",
      "469/469 [==============================] - 7s 16ms/step - loss: 0.0601 - accuracy: 0.9846\n",
      "Epoch 14/20\n",
      "469/469 [==============================] - 8s 18ms/step - loss: 0.0593 - accuracy: 0.9846\n",
      "Epoch 15/20\n",
      "469/469 [==============================] - 9s 18ms/step - loss: 0.0603 - accuracy: 0.9850 0s - l\n",
      "Epoch 16/20\n",
      "469/469 [==============================] - 8s 17ms/step - loss: 0.0669 - accuracy: 0.9835\n",
      "Epoch 17/20\n",
      "469/469 [==============================] - 8s 17ms/step - loss: 0.0639 - accuracy: 0.9841 0s - loss: 0.0638 - accuracy: 0.\n",
      "Epoch 18/20\n",
      "469/469 [==============================] - 8s 17ms/step - loss: 0.0586 - accuracy: 0.9860\n",
      "Epoch 19/20\n",
      "469/469 [==============================] - 8s 17ms/step - loss: 0.0608 - accuracy: 0.9855\n",
      "Epoch 20/20\n",
      "469/469 [==============================] - 8s 17ms/step - loss: 0.0525 - accuracy: 0.9871\n"
     ]
    }
   ],
   "source": [
    "def retrain_best_nn(best_params, X_train, y_train, epochs = 10): # 10 points\n",
    "    '''Retrain a nn using the best parameters\n",
    "    \n",
    "    Paramters\n",
    "    ----------\n",
    "    best_params:\n",
    "    X_train: data input of the training set\n",
    "    y_train: target of the input (one-hot vectors)\n",
    "    \n",
    "    Returns\n",
    "    ---------\n",
    "    bestNN: the nn classifier trained using the best parameters\n",
    "    \n",
    "    '''\n",
    "    ## add your code here  \n",
    "    h_nodes = [1000, 500] # two hidden layers with 1000 and 500 nodes, respectively.\n",
    "    myNN = create_NN(hidden_layers= h_nodes, act = best_params[\"act\"], opt = best_params[\"opt\"])\n",
    "    myNN.summary()\n",
    "    results = myNN.fit(X_train, y_train, epochs=epochs, batch_size=best_params[\"batch_size\"])\n",
    "    return myNN\n",
    "\n",
    "bestNN = retrain_best_nn(best_params, X_train, y_train_onehot, epochs = 20)"
   ]
  },
  {
   "cell_type": "markdown",
   "metadata": {},
   "source": [
    "### 5. Network evaluation. 20 points\n",
    "\n",
    "    - Complete the myEvaluation function to report the performance of your best nn using the test set\n",
    "        - compute the overall accuracy\n",
    "        - compute the precision for each class"
   ]
  },
  {
   "cell_type": "code",
   "execution_count": 10,
   "metadata": {
    "scrolled": true
   },
   "outputs": [
    {
     "name": "stderr",
     "output_type": "stream",
     "text": [
      "C:\\Users\\carlo\\anaconda3\\lib\\site-packages\\tensorflow\\python\\keras\\engine\\sequential.py:450: UserWarning: `model.predict_classes()` is deprecated and will be removed after 2021-01-01. Please use instead:* `np.argmax(model.predict(x), axis=-1)`,   if your model does multi-class classification   (e.g. if it uses a `softmax` last-layer activation).* `(model.predict(x) > 0.5).astype(\"int32\")`,   if your model does binary classification   (e.g. if it uses a `sigmoid` last-layer activation).\n",
      "  warnings.warn('`model.predict_classes()` is deprecated and '\n"
     ]
    },
    {
     "name": "stdout",
     "output_type": "stream",
     "text": [
      "my accuracy:    0.97\n",
      "my precision: [0.96, 0.99, 0.98, 0.97, 0.97, 0.95, 0.98, 0.97, 0.97, 0.92]\n",
      "              precision    recall  f1-score   support\n",
      "\n",
      "           0       0.96      0.98      0.97       980\n",
      "           1       0.99      0.99      0.99      1135\n",
      "           2       0.98      0.95      0.96      1032\n",
      "           3       0.97      0.96      0.97      1010\n",
      "           4       0.97      0.96      0.97       982\n",
      "           5       0.95      0.95      0.95       892\n",
      "           6       0.98      0.96      0.97       958\n",
      "           7       0.97      0.97      0.97      1028\n",
      "           8       0.97      0.95      0.96       974\n",
      "           9       0.92      0.98      0.95      1009\n",
      "\n",
      "    accuracy                           0.97     10000\n",
      "   macro avg       0.97      0.97      0.97     10000\n",
      "weighted avg       0.97      0.97      0.97     10000\n",
      "\n"
     ]
    }
   ],
   "source": [
    "from sklearn.metrics import classification_report\n",
    "\n",
    "def myEvaluation(y, y_pred):\n",
    "    ''' calculate the overall accuracy and precision\n",
    "    \n",
    "        Parameters\n",
    "        ----------\n",
    "        y: real target\n",
    "        y_pred: prediction\n",
    "        \n",
    "        Returns\n",
    "        -------\n",
    "        acc: accuracy\n",
    "        precision: precision array\n",
    "    '''\n",
    "\n",
    "    # calculate the overall acc\n",
    "    correct_preds = np.sum(y == y_pred, axis=0)\n",
    "    acc = correct_preds / y.shape[0]\n",
    "    \n",
    "    # calculate the precision for each class\n",
    "    con_mat = confusion_matrix(y, y_pred)\n",
    "    #print(con_mat)\n",
    "    con_mat_transpose = con_mat.transpose()\n",
    "    #print(con_mat_transpose)\n",
    "    \n",
    "    \n",
    "    pre = []\n",
    "    for num_x, x in enumerate(con_mat_transpose):\n",
    "        # sum up the column since we transposed it\n",
    "        col_sum = 0\n",
    "        for y in x:\n",
    "            col_sum = col_sum + y  \n",
    "        col_pre = x[num_x]/col_sum\n",
    "        pre.append(round(col_pre,2))\n",
    "    \n",
    "    # return acc and precision array\n",
    "    return acc, pre\n",
    "\n",
    "y_test_pred = bestNN.predict_classes(X_test)\n",
    "acc, precision = myEvaluation(y_test, y_test_pred)\n",
    "print('my accuracy:    {:.2f}'.format(acc))\n",
    "print('my precision:', precision)\n",
    "\n",
    "# results calculated using the classification_report\n",
    "print(classification_report(y_test, y_test_pred))"
   ]
  },
  {
   "cell_type": "markdown",
   "metadata": {},
   "source": [
    "### 6. Any findings or conclusion, e.g., useful strategies to improve nn performance. Extra 10 points\n",
    "1. To improve performace we can increase the number of epocs, but at the cost of computational time/resources\n",
    "\n",
    "2. It is possible to provide a larger training set, but again at the cost of computation time/resources. \n",
    "\n",
    "3. When we search for the \"best parameters\", it ensures our \"best NN\" model will be created with ideal parameters. The \"best parameters\" will vary depending on the computational resources available under the hood.\n",
    "\n"
   ]
  },
  {
   "cell_type": "code",
   "execution_count": null,
   "metadata": {},
   "outputs": [],
   "source": []
  },
  {
   "cell_type": "code",
   "execution_count": null,
   "metadata": {},
   "outputs": [],
   "source": []
  }
 ],
 "metadata": {
  "kernelspec": {
   "display_name": "Python 3",
   "language": "python",
   "name": "python3"
  },
  "language_info": {
   "codemirror_mode": {
    "name": "ipython",
    "version": 3
   },
   "file_extension": ".py",
   "mimetype": "text/x-python",
   "name": "python",
   "nbconvert_exporter": "python",
   "pygments_lexer": "ipython3",
   "version": "3.8.5"
  }
 },
 "nbformat": 4,
 "nbformat_minor": 2
}
