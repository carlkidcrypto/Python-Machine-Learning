{
 "cells": [
  {
   "cell_type": "markdown",
   "metadata": {},
   "source": [
    "## Homework 2: Search hyperparameters for neural networks\n",
    "In this homework, you will practice using Keras to implement neural networks and search their hyperparameters for handwritten digits classification.\n",
    "\n",
    "### Dataset\n",
    "MNIST handwritten digits. 60k 28*28 grayscale training images of the 10 digits, along with a test set of 10k images\n",
    "\n",
    "![Fig. 1](handwrittendigits.png)\n",
    " *Fig.1. Handwritten digits examples.* \n",
    "\n",
    "### Instructions\n",
    "\n",
    "    1. You need to install Keras on your computer to build neural networks.\n",
    "    2. The framework, e.g., functions' names, input, and output, has been defined. You are going to complete the create_NN, nn_params_search, retrain_best_nn, myEvaluation functions.\n",
    "    3. Add your code in the following blocks, and do not change other places.\n",
    "\n",
    "```python\n",
    "\n",
    "    ## add your code here\n",
    "    \n",
    "    ##\n",
    "```\n",
    "\n",
    "### Student information\n",
    "    1. Your name: Carlos Santos\n",
    "    2. Department: Comp. E.\n",
    "    3. Undergraduate\n",
    "\n",
    "### Task points and TA grading: ??/100\n",
    "    1. ?/10\n",
    "    2. ?/30\n",
    "    3. ?/30\n",
    "    4. ?/10\n",
    "    5. ?/20\n",
    "    6: performance_acc: ?/10"
   ]
  },
  {
   "cell_type": "code",
   "execution_count": 1,
   "metadata": {
    "scrolled": false
   },
   "outputs": [],
   "source": [
    "import keras\n",
    "from sklearn.model_selection import GridSearchCV\n",
    "from sklearn.metrics import confusion_matrix\n",
    "import numpy as np"
   ]
  },
  {
   "cell_type": "markdown",
   "metadata": {},
   "source": [
    "### 1. Load the MNIST dataset in Keras. 10 points"
   ]
  },
  {
   "cell_type": "code",
   "execution_count": 2,
   "metadata": {},
   "outputs": [
    {
     "name": "stdout",
     "output_type": "stream",
     "text": [
      "X_train_2D: (60000, 28, 28), X_train: (60000, 784)\n",
      "X_test_2D: (10000, 28, 28), X_test: (10000, 784)\n",
      "y_train_onehot: (60000, 10)\n",
      "one-hot vector examples:\n",
      " [[0. 0. 0. 0. 0. 1. 0. 0. 0. 0.]\n",
      " [1. 0. 0. 0. 0. 0. 0. 0. 0. 0.]\n",
      " [0. 0. 0. 0. 1. 0. 0. 0. 0. 0.]\n",
      " [0. 1. 0. 0. 0. 0. 0. 0. 0. 0.]\n",
      " [0. 0. 0. 0. 0. 0. 0. 0. 0. 1.]]\n"
     ]
    }
   ],
   "source": [
    "import matplotlib.pyplot as plt\n",
    "def load_data():\n",
    "    '''Load the MNIST dataset'''\n",
    "    \n",
    "    (X_train, y_train), (X_test, y_test) = keras.datasets.mnist.load_data()\n",
    "    return (X_train, y_train, X_test, y_test)\n",
    "\n",
    "#Task 1. load the dataset\n",
    "(X_train_2D, y_train, X_test_2D, y_test) = load_data()\n",
    "\n",
    "# 1.1 reshape the training and test sets (N*28*28) to N * 784. 10 points\n",
    "X_train = np.reshape(X_train_2D, (X_train_2D.shape[0], (X_train_2D.shape[1]*X_train_2D.shape[2])))\n",
    "X_test = np.reshape(X_test_2D, (X_test_2D.shape[0], (X_test_2D.shape[1]*X_test_2D.shape[2])))\n",
    "\n",
    "print('X_train_2D: {}, X_train: {}'.format(X_train_2D.shape, X_train.shape))\n",
    "print('X_test_2D: {}, X_test: {}'.format(X_test_2D.shape, X_test.shape))\n",
    "\n",
    "# 1.2 transform y_train to one-hot vectors using keras.utils.to_categorical to form the output of the NN. 10 points\n",
    "y_train_onehot = keras.utils.to_categorical(y_train) \n",
    "print('y_train_onehot: {}'.format(y_train_onehot.shape))\n",
    "print('one-hot vector examples:\\n', y_train_onehot[:5])"
   ]
  },
  {
   "cell_type": "markdown",
   "metadata": {},
   "source": [
    "### 2. Create neural networks using Keras. 30 points"
   ]
  },
  {
   "cell_type": "code",
   "execution_count": 3,
   "metadata": {},
   "outputs": [
    {
     "name": "stdout",
     "output_type": "stream",
     "text": [
      "Hidden Layer: 1 Size of: 1000\n",
      "Hidden Layer: 2 Size of: 500\n",
      "Model: \"sequential\"\n",
      "_________________________________________________________________\n",
      "Layer (type)                 Output Shape              Param #   \n",
      "=================================================================\n",
      "dense (Dense)                (None, 1000)              785000    \n",
      "_________________________________________________________________\n",
      "dense_1 (Dense)              (None, 500)               500500    \n",
      "_________________________________________________________________\n",
      "dense_2 (Dense)              (None, 10)                5010      \n",
      "=================================================================\n",
      "Total params: 1,290,510\n",
      "Trainable params: 1,290,510\n",
      "Non-trainable params: 0\n",
      "_________________________________________________________________\n"
     ]
    }
   ],
   "source": [
    "def create_NN(hidden_layers = [1000], act = 'relu', opt = 'rmsprop'): \n",
    "    '''create a deep feedforwad neural network using keras\n",
    "    \n",
    "    Parameters\n",
    "    -----------\n",
    "    hidden_layers: a list that defines the numbers of hidden nodes for all hidden layers, e.g., [1000] indicates\n",
    "    the nn has only one hidden layer with 1000 nodes, while [1000, 500] defines two hidden layers and the first\n",
    "    layer has 1000 nodes and the second has 500 nodes.\n",
    "    act: activation function for all hidden layers\n",
    "    opt: optimizer\n",
    "    \n",
    "    Returns\n",
    "    -------\n",
    "    myNN: the neural network model\n",
    "    \n",
    "    '''\n",
    "    in_dim = 784\n",
    "    out_dim = 10    \n",
    "    myNN = keras.models.Sequential()\n",
    "    \n",
    "    \n",
    "    num_hidden_layers = 0\n",
    "    for layer in hidden_layers:\n",
    "        num_hidden_layers = num_hidden_layers + 1 \n",
    "        print(\"Hidden Layer:\", num_hidden_layers, \"Size of:\", layer)\n",
    "        #2.1 build all hidden layers\n",
    "        myNN.add(keras.layers.Dense(\n",
    "        units=layer,\n",
    "        input_dim=in_dim,\n",
    "        activation=act))\n",
    "\n",
    "    #2.2 build the output layer and use the softmax activation  \n",
    "    myNN.add(keras.layers.Dense(\n",
    "    units=out_dim,\n",
    "    activation='softmax'))\n",
    "\n",
    "    #2.3 choose the optimizer, compile the network and return it. Use 'accuracy' as the metrics\n",
    "    myNN.compile(optimizer=opt, loss='categorical_crossentropy', metrics=['accuracy'])\n",
    "    return myNN\n",
    "    \n",
    "h_nodes = [1000, 500] # two hidden layers with 1000 and 500 nodes, respectively.\n",
    "myNN = create_NN(hidden_layers= h_nodes, act = 'relu', opt = 'adam')\n",
    "myNN.summary()"
   ]
  },
  {
   "cell_type": "markdown",
   "metadata": {},
   "source": [
    "### 3. Search the best NN paprameters, and report the performance. 30 points\n",
    "    - The KerasClassifier will be used to warp NN models to use the GridSearchCV\n",
    "    - Complete the nn_params_search function to search the three parameters: batch_size, activation, and optimizer.\n",
    "    - Each fit (10 epochs) may take 1 to 2 minutes."
   ]
  },
  {
   "cell_type": "code",
   "execution_count": 4,
   "metadata": {},
   "outputs": [
    {
     "name": "stdout",
     "output_type": "stream",
     "text": [
      "Fitting 3 folds for each of 8 candidates, totalling 24 fits\n",
      "Hidden Layer: 1 Size of: 1000\n",
      "Epoch 1/10\n",
      "625/625 [==============================] - 3s 5ms/step - loss: 797.0479 - accuracy: 0.5154\n",
      "Epoch 2/10\n",
      "625/625 [==============================] - 3s 5ms/step - loss: 0.8903 - accuracy: 0.7760\n",
      "Epoch 3/10\n",
      "625/625 [==============================] - 3s 5ms/step - loss: 0.7006 - accuracy: 0.8200\n",
      "Epoch 4/10\n",
      "625/625 [==============================] - 3s 5ms/step - loss: 0.6673 - accuracy: 0.8278\n",
      "Epoch 5/10\n",
      "625/625 [==============================] - 3s 5ms/step - loss: 0.6286 - accuracy: 0.8119\n",
      "Epoch 6/10\n",
      "625/625 [==============================] - 3s 5ms/step - loss: 0.5718 - accuracy: 0.8376\n",
      "Epoch 7/10\n",
      "625/625 [==============================] - 3s 5ms/step - loss: 0.5675 - accuracy: 0.8733\n",
      "Epoch 8/10\n",
      "625/625 [==============================] - 3s 5ms/step - loss: 0.4841 - accuracy: 0.8820\n",
      "Epoch 9/10\n",
      "625/625 [==============================] - 3s 5ms/step - loss: 0.5535 - accuracy: 0.8202\n",
      "Epoch 10/10\n",
      "625/625 [==============================] - 3s 5ms/step - loss: 0.3865 - accuracy: 0.8768\n"
     ]
    },
    {
     "name": "stderr",
     "output_type": "stream",
     "text": [
      "C:\\Users\\carlo\\anaconda3\\lib\\site-packages\\tensorflow\\python\\keras\\engine\\sequential.py:450: UserWarning: `model.predict_classes()` is deprecated and will be removed after 2021-01-01. Please use instead:* `np.argmax(model.predict(x), axis=-1)`,   if your model does multi-class classification   (e.g. if it uses a `softmax` last-layer activation).* `(model.predict(x) > 0.5).astype(\"int32\")`,   if your model does binary classification   (e.g. if it uses a `sigmoid` last-layer activation).\n",
      "  warnings.warn('`model.predict_classes()` is deprecated and '\n"
     ]
    },
    {
     "name": "stdout",
     "output_type": "stream",
     "text": [
      "[CV] END ...................act=relu, batch_size=64, opt=sgd; total time=  31.4s\n",
      "Hidden Layer: 1 Size of: 1000\n",
      "Epoch 1/10\n",
      "625/625 [==============================] - 4s 5ms/step - loss: 436.9392 - accuracy: 0.6089\n",
      "Epoch 2/10\n",
      "625/625 [==============================] - 3s 5ms/step - loss: 0.5345 - accuracy: 0.8689\n",
      "Epoch 3/10\n",
      "625/625 [==============================] - 4s 6ms/step - loss: 0.4478 - accuracy: 0.9010\n",
      "Epoch 4/10\n",
      "625/625 [==============================] - 3s 5ms/step - loss: 0.4553 - accuracy: 0.9029\n",
      "Epoch 5/10\n",
      "625/625 [==============================] - 3s 5ms/step - loss: 0.3593 - accuracy: 0.9192\n",
      "Epoch 6/10\n",
      "625/625 [==============================] - 3s 5ms/step - loss: 0.3510 - accuracy: 0.9208\n",
      "Epoch 7/10\n",
      "625/625 [==============================] - 4s 6ms/step - loss: 0.3072 - accuracy: 0.9260\n",
      "Epoch 8/10\n",
      "625/625 [==============================] - 3s 5ms/step - loss: 0.2463 - accuracy: 0.9451\n",
      "Epoch 9/10\n",
      "625/625 [==============================] - 3s 5ms/step - loss: 0.2537 - accuracy: 0.9443\n",
      "Epoch 10/10\n",
      "625/625 [==============================] - 3s 5ms/step - loss: 0.2294 - accuracy: 0.9434\n"
     ]
    },
    {
     "name": "stderr",
     "output_type": "stream",
     "text": [
      "C:\\Users\\carlo\\anaconda3\\lib\\site-packages\\tensorflow\\python\\keras\\engine\\sequential.py:450: UserWarning: `model.predict_classes()` is deprecated and will be removed after 2021-01-01. Please use instead:* `np.argmax(model.predict(x), axis=-1)`,   if your model does multi-class classification   (e.g. if it uses a `softmax` last-layer activation).* `(model.predict(x) > 0.5).astype(\"int32\")`,   if your model does binary classification   (e.g. if it uses a `sigmoid` last-layer activation).\n",
      "  warnings.warn('`model.predict_classes()` is deprecated and '\n"
     ]
    },
    {
     "name": "stdout",
     "output_type": "stream",
     "text": [
      "[CV] END ...................act=relu, batch_size=64, opt=sgd; total time=  34.7s\n",
      "Hidden Layer: 1 Size of: 1000\n",
      "Epoch 1/10\n",
      "625/625 [==============================] - 4s 5ms/step - loss: 305.9316 - accuracy: 0.6520\n",
      "Epoch 2/10\n",
      "625/625 [==============================] - 3s 5ms/step - loss: 0.5293 - accuracy: 0.8801\n",
      "Epoch 3/10\n",
      "625/625 [==============================] - 3s 5ms/step - loss: 0.3940 - accuracy: 0.9094\n",
      "Epoch 4/10\n",
      "625/625 [==============================] - 3s 5ms/step - loss: 0.3575 - accuracy: 0.9209\n",
      "Epoch 5/10\n",
      "625/625 [==============================] - 4s 6ms/step - loss: 0.3000 - accuracy: 0.9327\n",
      "Epoch 6/10\n",
      "625/625 [==============================] - 3s 5ms/step - loss: 0.2756 - accuracy: 0.9366\n",
      "Epoch 7/10\n",
      "625/625 [==============================] - 3s 5ms/step - loss: 0.2841 - accuracy: 0.9396\n",
      "Epoch 8/10\n",
      "625/625 [==============================] - 3s 5ms/step - loss: 0.2534 - accuracy: 0.9475\n",
      "Epoch 9/10\n",
      "625/625 [==============================] - 3s 5ms/step - loss: 0.2245 - accuracy: 0.9482\n",
      "Epoch 10/10\n",
      "625/625 [==============================] - 3s 5ms/step - loss: 0.2179 - accuracy: 0.9495\n"
     ]
    },
    {
     "name": "stderr",
     "output_type": "stream",
     "text": [
      "C:\\Users\\carlo\\anaconda3\\lib\\site-packages\\tensorflow\\python\\keras\\engine\\sequential.py:450: UserWarning: `model.predict_classes()` is deprecated and will be removed after 2021-01-01. Please use instead:* `np.argmax(model.predict(x), axis=-1)`,   if your model does multi-class classification   (e.g. if it uses a `softmax` last-layer activation).* `(model.predict(x) > 0.5).astype(\"int32\")`,   if your model does binary classification   (e.g. if it uses a `sigmoid` last-layer activation).\n",
      "  warnings.warn('`model.predict_classes()` is deprecated and '\n"
     ]
    },
    {
     "name": "stdout",
     "output_type": "stream",
     "text": [
      "[CV] END ...................act=relu, batch_size=64, opt=sgd; total time=  34.0s\n",
      "Hidden Layer: 1 Size of: 1000\n",
      "Epoch 1/10\n",
      "625/625 [==============================] - 4s 6ms/step - loss: 13.0131 - accuracy: 0.8468\n",
      "Epoch 2/10\n",
      "625/625 [==============================] - 4s 6ms/step - loss: 0.4765 - accuracy: 0.9526\n",
      "Epoch 3/10\n",
      "625/625 [==============================] - 4s 6ms/step - loss: 0.2877 - accuracy: 0.9619\n",
      "Epoch 4/10\n",
      "625/625 [==============================] - 4s 6ms/step - loss: 0.2898 - accuracy: 0.9636\n",
      "Epoch 5/10\n",
      "625/625 [==============================] - 4s 6ms/step - loss: 0.2518 - accuracy: 0.9667\n",
      "Epoch 6/10\n",
      "625/625 [==============================] - 4s 6ms/step - loss: 0.2901 - accuracy: 0.9665\n",
      "Epoch 7/10\n",
      "625/625 [==============================] - 4s 6ms/step - loss: 0.2666 - accuracy: 0.9690\n",
      "Epoch 8/10\n",
      "625/625 [==============================] - 4s 6ms/step - loss: 0.2960 - accuracy: 0.9680\n",
      "Epoch 9/10\n",
      "625/625 [==============================] - 4s 6ms/step - loss: 0.2151 - accuracy: 0.9738\n",
      "Epoch 10/10\n",
      "625/625 [==============================] - 4s 6ms/step - loss: 0.2415 - accuracy: 0.9735\n"
     ]
    },
    {
     "name": "stderr",
     "output_type": "stream",
     "text": [
      "C:\\Users\\carlo\\anaconda3\\lib\\site-packages\\tensorflow\\python\\keras\\engine\\sequential.py:450: UserWarning: `model.predict_classes()` is deprecated and will be removed after 2021-01-01. Please use instead:* `np.argmax(model.predict(x), axis=-1)`,   if your model does multi-class classification   (e.g. if it uses a `softmax` last-layer activation).* `(model.predict(x) > 0.5).astype(\"int32\")`,   if your model does binary classification   (e.g. if it uses a `sigmoid` last-layer activation).\n",
      "  warnings.warn('`model.predict_classes()` is deprecated and '\n"
     ]
    },
    {
     "name": "stdout",
     "output_type": "stream",
     "text": [
      "[CV] END ..................act=relu, batch_size=64, opt=adam; total time=  38.3s\n",
      "Hidden Layer: 1 Size of: 1000\n",
      "Epoch 1/10\n",
      "625/625 [==============================] - 4s 6ms/step - loss: 11.5142 - accuracy: 0.8559\n",
      "Epoch 2/10\n",
      "625/625 [==============================] - 4s 6ms/step - loss: 0.4283 - accuracy: 0.9556\n",
      "Epoch 3/10\n",
      "625/625 [==============================] - 4s 6ms/step - loss: 0.3188 - accuracy: 0.9644\n",
      "Epoch 4/10\n",
      "625/625 [==============================] - 4s 6ms/step - loss: 0.3183 - accuracy: 0.9643\n",
      "Epoch 5/10\n",
      "625/625 [==============================] - 4s 6ms/step - loss: 0.2303 - accuracy: 0.9698\n",
      "Epoch 6/10\n",
      "625/625 [==============================] - 4s 6ms/step - loss: 0.3354 - accuracy: 0.9650\n",
      "Epoch 7/10\n",
      "625/625 [==============================] - 4s 7ms/step - loss: 0.2892 - accuracy: 0.9683\n",
      "Epoch 8/10\n",
      "625/625 [==============================] - 4s 6ms/step - loss: 0.2808 - accuracy: 0.9710\n",
      "Epoch 9/10\n",
      "625/625 [==============================] - 4s 7ms/step - loss: 0.3045 - accuracy: 0.9710\n",
      "Epoch 10/10\n",
      "625/625 [==============================] - 4s 6ms/step - loss: 0.2544 - accuracy: 0.9747\n"
     ]
    },
    {
     "name": "stderr",
     "output_type": "stream",
     "text": [
      "C:\\Users\\carlo\\anaconda3\\lib\\site-packages\\tensorflow\\python\\keras\\engine\\sequential.py:450: UserWarning: `model.predict_classes()` is deprecated and will be removed after 2021-01-01. Please use instead:* `np.argmax(model.predict(x), axis=-1)`,   if your model does multi-class classification   (e.g. if it uses a `softmax` last-layer activation).* `(model.predict(x) > 0.5).astype(\"int32\")`,   if your model does binary classification   (e.g. if it uses a `sigmoid` last-layer activation).\n",
      "  warnings.warn('`model.predict_classes()` is deprecated and '\n"
     ]
    },
    {
     "name": "stdout",
     "output_type": "stream",
     "text": [
      "[CV] END ..................act=relu, batch_size=64, opt=adam; total time=  41.0s\n",
      "Hidden Layer: 1 Size of: 1000\n",
      "Epoch 1/10\n",
      "625/625 [==============================] - 4s 6ms/step - loss: 14.4329 - accuracy: 0.8519\n",
      "Epoch 2/10\n",
      "625/625 [==============================] - 4s 6ms/step - loss: 0.4709 - accuracy: 0.9565\n",
      "Epoch 3/10\n",
      "625/625 [==============================] - 4s 6ms/step - loss: 0.3068 - accuracy: 0.9639\n",
      "Epoch 4/10\n",
      "625/625 [==============================] - 4s 6ms/step - loss: 0.2957 - accuracy: 0.9672\n",
      "Epoch 5/10\n",
      "625/625 [==============================] - 4s 6ms/step - loss: 0.2782 - accuracy: 0.9690\n",
      "Epoch 6/10\n",
      "625/625 [==============================] - 4s 6ms/step - loss: 0.3067 - accuracy: 0.9701\n",
      "Epoch 7/10\n",
      "625/625 [==============================] - 4s 6ms/step - loss: 0.2831 - accuracy: 0.9703\n",
      "Epoch 8/10\n",
      "625/625 [==============================] - 4s 6ms/step - loss: 0.3462 - accuracy: 0.9674\n",
      "Epoch 9/10\n",
      "625/625 [==============================] - 4s 6ms/step - loss: 0.2333 - accuracy: 0.9759\n",
      "Epoch 10/10\n",
      "625/625 [==============================] - 4s 6ms/step - loss: 0.1927 - accuracy: 0.9777\n"
     ]
    },
    {
     "name": "stderr",
     "output_type": "stream",
     "text": [
      "C:\\Users\\carlo\\anaconda3\\lib\\site-packages\\tensorflow\\python\\keras\\engine\\sequential.py:450: UserWarning: `model.predict_classes()` is deprecated and will be removed after 2021-01-01. Please use instead:* `np.argmax(model.predict(x), axis=-1)`,   if your model does multi-class classification   (e.g. if it uses a `softmax` last-layer activation).* `(model.predict(x) > 0.5).astype(\"int32\")`,   if your model does binary classification   (e.g. if it uses a `sigmoid` last-layer activation).\n",
      "  warnings.warn('`model.predict_classes()` is deprecated and '\n"
     ]
    },
    {
     "name": "stdout",
     "output_type": "stream",
     "text": [
      "[CV] END ..................act=relu, batch_size=64, opt=adam; total time=  38.6s\n",
      "Hidden Layer: 1 Size of: 1000\n",
      "Epoch 1/10\n",
      "313/313 [==============================] - 3s 8ms/step - loss: 818.6927 - accuracy: 0.5211\n",
      "Epoch 2/10\n",
      "313/313 [==============================] - 3s 8ms/step - loss: 0.4299 - accuracy: 0.8935\n",
      "Epoch 3/10\n",
      "313/313 [==============================] - 3s 10ms/step - loss: 0.3507 - accuracy: 0.9115\n",
      "Epoch 4/10\n",
      "313/313 [==============================] - 3s 9ms/step - loss: 0.2366 - accuracy: 0.9370\n",
      "Epoch 5/10\n",
      "313/313 [==============================] - 3s 9ms/step - loss: 0.2290 - accuracy: 0.9391\n",
      "Epoch 6/10\n",
      "313/313 [==============================] - 3s 9ms/step - loss: 0.1777 - accuracy: 0.9503\n",
      "Epoch 7/10\n",
      "313/313 [==============================] - 2s 7ms/step - loss: 0.1623 - accuracy: 0.9545\n",
      "Epoch 8/10\n",
      "313/313 [==============================] - 2s 7ms/step - loss: 0.1470 - accuracy: 0.9580\n",
      "Epoch 9/10\n",
      "313/313 [==============================] - 2s 7ms/step - loss: 0.1408 - accuracy: 0.9603\n",
      "Epoch 10/10\n",
      "313/313 [==============================] - 2s 7ms/step - loss: 0.1251 - accuracy: 0.9650\n"
     ]
    },
    {
     "name": "stderr",
     "output_type": "stream",
     "text": [
      "C:\\Users\\carlo\\anaconda3\\lib\\site-packages\\tensorflow\\python\\keras\\engine\\sequential.py:450: UserWarning: `model.predict_classes()` is deprecated and will be removed after 2021-01-01. Please use instead:* `np.argmax(model.predict(x), axis=-1)`,   if your model does multi-class classification   (e.g. if it uses a `softmax` last-layer activation).* `(model.predict(x) > 0.5).astype(\"int32\")`,   if your model does binary classification   (e.g. if it uses a `sigmoid` last-layer activation).\n",
      "  warnings.warn('`model.predict_classes()` is deprecated and '\n"
     ]
    },
    {
     "name": "stdout",
     "output_type": "stream",
     "text": [
      "[CV] END ..................act=relu, batch_size=128, opt=sgd; total time=  26.2s\n",
      "Hidden Layer: 1 Size of: 1000\n",
      "Epoch 1/10\n",
      "313/313 [==============================] - 2s 6ms/step - loss: 1054.9998 - accuracy: 0.5536\n",
      "Epoch 2/10\n",
      "313/313 [==============================] - 2s 7ms/step - loss: 0.4370 - accuracy: 0.8917\n",
      "Epoch 3/10\n",
      "313/313 [==============================] - 2s 7ms/step - loss: 0.3396 - accuracy: 0.9189\n",
      "Epoch 4/10\n",
      "313/313 [==============================] - 2s 8ms/step - loss: 0.2906 - accuracy: 0.9261\n",
      "Epoch 5/10\n",
      "313/313 [==============================] - 2s 7ms/step - loss: 0.2789 - accuracy: 0.9256\n",
      "Epoch 6/10\n",
      "313/313 [==============================] - 2s 7ms/step - loss: 0.2346 - accuracy: 0.9405\n",
      "Epoch 7/10\n",
      "313/313 [==============================] - 2s 7ms/step - loss: 0.2396 - accuracy: 0.9419\n",
      "Epoch 8/10\n",
      "313/313 [==============================] - 2s 6ms/step - loss: 0.1823 - accuracy: 0.9508\n",
      "Epoch 9/10\n",
      "313/313 [==============================] - 2s 7ms/step - loss: 0.1683 - accuracy: 0.9561\n",
      "Epoch 10/10\n",
      "313/313 [==============================] - 2s 7ms/step - loss: 0.1488 - accuracy: 0.9606\n"
     ]
    },
    {
     "name": "stderr",
     "output_type": "stream",
     "text": [
      "C:\\Users\\carlo\\anaconda3\\lib\\site-packages\\tensorflow\\python\\keras\\engine\\sequential.py:450: UserWarning: `model.predict_classes()` is deprecated and will be removed after 2021-01-01. Please use instead:* `np.argmax(model.predict(x), axis=-1)`,   if your model does multi-class classification   (e.g. if it uses a `softmax` last-layer activation).* `(model.predict(x) > 0.5).astype(\"int32\")`,   if your model does binary classification   (e.g. if it uses a `sigmoid` last-layer activation).\n",
      "  warnings.warn('`model.predict_classes()` is deprecated and '\n"
     ]
    },
    {
     "name": "stdout",
     "output_type": "stream",
     "text": [
      "[CV] END ..................act=relu, batch_size=128, opt=sgd; total time=  23.1s\n",
      "Hidden Layer: 1 Size of: 1000\n",
      "Epoch 1/10\n",
      "313/313 [==============================] - 3s 7ms/step - loss: 452.3974 - accuracy: 0.5520\n",
      "Epoch 2/10\n",
      "313/313 [==============================] - 2s 8ms/step - loss: 0.3875 - accuracy: 0.9002\n",
      "Epoch 3/10\n",
      "313/313 [==============================] - 3s 8ms/step - loss: 0.3189 - accuracy: 0.9170\n",
      "Epoch 4/10\n",
      "313/313 [==============================] - 2s 8ms/step - loss: 0.2546 - accuracy: 0.9316\n",
      "Epoch 5/10\n",
      "313/313 [==============================] - 2s 7ms/step - loss: 0.2186 - accuracy: 0.9424\n",
      "Epoch 6/10\n",
      "313/313 [==============================] - 2s 7ms/step - loss: 0.1811 - accuracy: 0.9500\n",
      "Epoch 7/10\n",
      "313/313 [==============================] - 2s 7ms/step - loss: 0.1700 - accuracy: 0.9530\n",
      "Epoch 8/10\n",
      "313/313 [==============================] - 2s 8ms/step - loss: 0.1412 - accuracy: 0.9598\n",
      "Epoch 9/10\n",
      "313/313 [==============================] - 2s 8ms/step - loss: 0.1495 - accuracy: 0.9575\n",
      "Epoch 10/10\n",
      "313/313 [==============================] - 2s 7ms/step - loss: 0.1175 - accuracy: 0.9654\n"
     ]
    },
    {
     "name": "stderr",
     "output_type": "stream",
     "text": [
      "C:\\Users\\carlo\\anaconda3\\lib\\site-packages\\tensorflow\\python\\keras\\engine\\sequential.py:450: UserWarning: `model.predict_classes()` is deprecated and will be removed after 2021-01-01. Please use instead:* `np.argmax(model.predict(x), axis=-1)`,   if your model does multi-class classification   (e.g. if it uses a `softmax` last-layer activation).* `(model.predict(x) > 0.5).astype(\"int32\")`,   if your model does binary classification   (e.g. if it uses a `sigmoid` last-layer activation).\n",
      "  warnings.warn('`model.predict_classes()` is deprecated and '\n"
     ]
    },
    {
     "name": "stdout",
     "output_type": "stream",
     "text": [
      "[CV] END ..................act=relu, batch_size=128, opt=sgd; total time=  24.5s\n",
      "Hidden Layer: 1 Size of: 1000\n",
      "Epoch 1/10\n",
      "313/313 [==============================] - 3s 8ms/step - loss: 14.7059 - accuracy: 0.8392\n",
      "Epoch 2/10\n",
      "313/313 [==============================] - 2s 8ms/step - loss: 0.8189 - accuracy: 0.9541\n",
      "Epoch 3/10\n",
      "313/313 [==============================] - 3s 8ms/step - loss: 0.3331 - accuracy: 0.9708\n",
      "Epoch 4/10\n",
      "313/313 [==============================] - 2s 8ms/step - loss: 0.2157 - accuracy: 0.9751\n",
      "Epoch 5/10\n",
      "313/313 [==============================] - 3s 8ms/step - loss: 0.1760 - accuracy: 0.9811\n",
      "Epoch 6/10\n",
      "313/313 [==============================] - 3s 9ms/step - loss: 0.1888 - accuracy: 0.9800\n",
      "Epoch 7/10\n",
      "313/313 [==============================] - 2s 8ms/step - loss: 0.1764 - accuracy: 0.9806\n",
      "Epoch 8/10\n",
      "313/313 [==============================] - 2s 8ms/step - loss: 0.2124 - accuracy: 0.9790\n",
      "Epoch 9/10\n",
      "313/313 [==============================] - 2s 8ms/step - loss: 0.2028 - accuracy: 0.9791\n",
      "Epoch 10/10\n",
      "313/313 [==============================] - 3s 8ms/step - loss: 0.1687 - accuracy: 0.9835\n"
     ]
    },
    {
     "name": "stderr",
     "output_type": "stream",
     "text": [
      "C:\\Users\\carlo\\anaconda3\\lib\\site-packages\\tensorflow\\python\\keras\\engine\\sequential.py:450: UserWarning: `model.predict_classes()` is deprecated and will be removed after 2021-01-01. Please use instead:* `np.argmax(model.predict(x), axis=-1)`,   if your model does multi-class classification   (e.g. if it uses a `softmax` last-layer activation).* `(model.predict(x) > 0.5).astype(\"int32\")`,   if your model does binary classification   (e.g. if it uses a `sigmoid` last-layer activation).\n",
      "  warnings.warn('`model.predict_classes()` is deprecated and '\n"
     ]
    },
    {
     "name": "stdout",
     "output_type": "stream",
     "text": [
      "[CV] END .................act=relu, batch_size=128, opt=adam; total time=  25.7s\n",
      "Hidden Layer: 1 Size of: 1000\n",
      "Epoch 1/10\n",
      "313/313 [==============================] - 3s 8ms/step - loss: 14.4564 - accuracy: 0.8392\n",
      "Epoch 2/10\n",
      "313/313 [==============================] - 2s 8ms/step - loss: 0.7007 - accuracy: 0.9592\n",
      "Epoch 3/10\n",
      "313/313 [==============================] - 2s 8ms/step - loss: 0.3054 - accuracy: 0.9725\n",
      "Epoch 4/10\n",
      "313/313 [==============================] - 2s 8ms/step - loss: 0.2453 - accuracy: 0.9750\n",
      "Epoch 5/10\n",
      "313/313 [==============================] - 2s 8ms/step - loss: 0.2270 - accuracy: 0.9779\n",
      "Epoch 6/10\n",
      "313/313 [==============================] - 2s 8ms/step - loss: 0.2053 - accuracy: 0.9787\n",
      "Epoch 7/10\n",
      "313/313 [==============================] - 2s 8ms/step - loss: 0.1956 - accuracy: 0.9798\n",
      "Epoch 8/10\n",
      "313/313 [==============================] - 2s 8ms/step - loss: 0.1811 - accuracy: 0.9824\n",
      "Epoch 9/10\n",
      "313/313 [==============================] - 2s 8ms/step - loss: 0.2012 - accuracy: 0.9813\n",
      "Epoch 10/10\n",
      "313/313 [==============================] - 3s 8ms/step - loss: 0.2045 - accuracy: 0.9800\n"
     ]
    },
    {
     "name": "stderr",
     "output_type": "stream",
     "text": [
      "C:\\Users\\carlo\\anaconda3\\lib\\site-packages\\tensorflow\\python\\keras\\engine\\sequential.py:450: UserWarning: `model.predict_classes()` is deprecated and will be removed after 2021-01-01. Please use instead:* `np.argmax(model.predict(x), axis=-1)`,   if your model does multi-class classification   (e.g. if it uses a `softmax` last-layer activation).* `(model.predict(x) > 0.5).astype(\"int32\")`,   if your model does binary classification   (e.g. if it uses a `sigmoid` last-layer activation).\n",
      "  warnings.warn('`model.predict_classes()` is deprecated and '\n"
     ]
    },
    {
     "name": "stdout",
     "output_type": "stream",
     "text": [
      "[CV] END .................act=relu, batch_size=128, opt=adam; total time=  25.6s\n",
      "Hidden Layer: 1 Size of: 1000\n",
      "Epoch 1/10\n",
      "313/313 [==============================] - 3s 8ms/step - loss: 15.1615 - accuracy: 0.8360\n",
      "Epoch 2/10\n",
      "313/313 [==============================] - 3s 8ms/step - loss: 0.6798 - accuracy: 0.9592\n",
      "Epoch 3/10\n",
      "313/313 [==============================] - 3s 8ms/step - loss: 0.3002 - accuracy: 0.9729\n",
      "Epoch 4/10\n",
      "313/313 [==============================] - 3s 8ms/step - loss: 0.2382 - accuracy: 0.9761\n",
      "Epoch 5/10\n",
      "313/313 [==============================] - 2s 8ms/step - loss: 0.2243 - accuracy: 0.9792\n",
      "Epoch 6/10\n",
      "313/313 [==============================] - 2s 8ms/step - loss: 0.1863 - accuracy: 0.9821\n",
      "Epoch 7/10\n",
      "313/313 [==============================] - 2s 8ms/step - loss: 0.1455 - accuracy: 0.9832\n",
      "Epoch 8/10\n",
      "313/313 [==============================] - 3s 8ms/step - loss: 0.2051 - accuracy: 0.9817\n",
      "Epoch 9/10\n",
      "313/313 [==============================] - 3s 8ms/step - loss: 0.2170 - accuracy: 0.9808\n",
      "Epoch 10/10\n",
      "313/313 [==============================] - 3s 8ms/step - loss: 0.2028 - accuracy: 0.9824\n"
     ]
    },
    {
     "name": "stderr",
     "output_type": "stream",
     "text": [
      "C:\\Users\\carlo\\anaconda3\\lib\\site-packages\\tensorflow\\python\\keras\\engine\\sequential.py:450: UserWarning: `model.predict_classes()` is deprecated and will be removed after 2021-01-01. Please use instead:* `np.argmax(model.predict(x), axis=-1)`,   if your model does multi-class classification   (e.g. if it uses a `softmax` last-layer activation).* `(model.predict(x) > 0.5).astype(\"int32\")`,   if your model does binary classification   (e.g. if it uses a `sigmoid` last-layer activation).\n",
      "  warnings.warn('`model.predict_classes()` is deprecated and '\n"
     ]
    },
    {
     "name": "stdout",
     "output_type": "stream",
     "text": [
      "[CV] END .................act=relu, batch_size=128, opt=adam; total time=  26.3s\n",
      "Hidden Layer: 1 Size of: 1000\n",
      "Epoch 1/10\n",
      "625/625 [==============================] - 4s 5ms/step - loss: 0.8214 - accuracy: 0.7782\n",
      "Epoch 2/10\n",
      "625/625 [==============================] - 3s 5ms/step - loss: 0.2978 - accuracy: 0.9213\n",
      "Epoch 3/10\n",
      "625/625 [==============================] - 3s 5ms/step - loss: 0.2339 - accuracy: 0.9390\n",
      "Epoch 4/10\n",
      "625/625 [==============================] - 3s 5ms/step - loss: 0.2000 - accuracy: 0.9497\n",
      "Epoch 5/10\n",
      "625/625 [==============================] - 3s 5ms/step - loss: 0.1791 - accuracy: 0.9532\n",
      "Epoch 6/10\n",
      "625/625 [==============================] - 3s 5ms/step - loss: 0.1544 - accuracy: 0.9601\n",
      "Epoch 7/10\n",
      "625/625 [==============================] - 3s 6ms/step - loss: 0.1432 - accuracy: 0.9644\n",
      "Epoch 8/10\n",
      "625/625 [==============================] - 3s 5ms/step - loss: 0.1236 - accuracy: 0.9702\n",
      "Epoch 9/10\n",
      "625/625 [==============================] - 3s 6ms/step - loss: 0.1145 - accuracy: 0.9731\n",
      "Epoch 10/10\n",
      "625/625 [==============================] - 4s 6ms/step - loss: 0.1026 - accuracy: 0.9762\n"
     ]
    },
    {
     "name": "stderr",
     "output_type": "stream",
     "text": [
      "C:\\Users\\carlo\\anaconda3\\lib\\site-packages\\tensorflow\\python\\keras\\engine\\sequential.py:450: UserWarning: `model.predict_classes()` is deprecated and will be removed after 2021-01-01. Please use instead:* `np.argmax(model.predict(x), axis=-1)`,   if your model does multi-class classification   (e.g. if it uses a `softmax` last-layer activation).* `(model.predict(x) > 0.5).astype(\"int32\")`,   if your model does binary classification   (e.g. if it uses a `sigmoid` last-layer activation).\n",
      "  warnings.warn('`model.predict_classes()` is deprecated and '\n"
     ]
    },
    {
     "name": "stdout",
     "output_type": "stream",
     "text": [
      "[CV] END ................act=sigmoid, batch_size=64, opt=sgd; total time=  35.5s\n",
      "Hidden Layer: 1 Size of: 1000\n",
      "Epoch 1/10\n",
      "625/625 [==============================] - 4s 6ms/step - loss: 0.8281 - accuracy: 0.7724\n",
      "Epoch 2/10\n",
      "625/625 [==============================] - 4s 6ms/step - loss: 0.2888 - accuracy: 0.9250\n",
      "Epoch 3/10\n",
      "625/625 [==============================] - 4s 6ms/step - loss: 0.2392 - accuracy: 0.9363\n",
      "Epoch 4/10\n",
      "625/625 [==============================] - 4s 6ms/step - loss: 0.2014 - accuracy: 0.9474\n",
      "Epoch 5/10\n",
      "625/625 [==============================] - 3s 5ms/step - loss: 0.1749 - accuracy: 0.9526\n",
      "Epoch 6/10\n",
      "625/625 [==============================] - 3s 5ms/step - loss: 0.1581 - accuracy: 0.9597\n",
      "Epoch 7/10\n",
      "625/625 [==============================] - 4s 7ms/step - loss: 0.1391 - accuracy: 0.9652\n",
      "Epoch 8/10\n",
      "625/625 [==============================] - 4s 6ms/step - loss: 0.1246 - accuracy: 0.9702\n",
      "Epoch 9/10\n",
      "625/625 [==============================] - 4s 6ms/step - loss: 0.1145 - accuracy: 0.9721\n",
      "Epoch 10/10\n",
      "625/625 [==============================] - 4s 6ms/step - loss: 0.1016 - accuracy: 0.9766\n"
     ]
    },
    {
     "name": "stderr",
     "output_type": "stream",
     "text": [
      "C:\\Users\\carlo\\anaconda3\\lib\\site-packages\\tensorflow\\python\\keras\\engine\\sequential.py:450: UserWarning: `model.predict_classes()` is deprecated and will be removed after 2021-01-01. Please use instead:* `np.argmax(model.predict(x), axis=-1)`,   if your model does multi-class classification   (e.g. if it uses a `softmax` last-layer activation).* `(model.predict(x) > 0.5).astype(\"int32\")`,   if your model does binary classification   (e.g. if it uses a `sigmoid` last-layer activation).\n",
      "  warnings.warn('`model.predict_classes()` is deprecated and '\n"
     ]
    },
    {
     "name": "stdout",
     "output_type": "stream",
     "text": [
      "[CV] END ................act=sigmoid, batch_size=64, opt=sgd; total time=  38.0s\n",
      "Hidden Layer: 1 Size of: 1000\n",
      "Epoch 1/10\n",
      "625/625 [==============================] - 3s 5ms/step - loss: 0.8637 - accuracy: 0.7598\n",
      "Epoch 2/10\n",
      "625/625 [==============================] - 3s 6ms/step - loss: 0.2974 - accuracy: 0.9212\n",
      "Epoch 3/10\n",
      "625/625 [==============================] - 4s 7ms/step - loss: 0.2364 - accuracy: 0.9362\n",
      "Epoch 4/10\n",
      "625/625 [==============================] - 5s 8ms/step - loss: 0.2073 - accuracy: 0.9447\n",
      "Epoch 5/10\n",
      "625/625 [==============================] - 4s 6ms/step - loss: 0.1796 - accuracy: 0.9519\n",
      "Epoch 6/10\n",
      "625/625 [==============================] - 4s 6ms/step - loss: 0.1632 - accuracy: 0.9558\n",
      "Epoch 7/10\n",
      "625/625 [==============================] - 3s 5ms/step - loss: 0.1407 - accuracy: 0.9635\n",
      "Epoch 8/10\n",
      "625/625 [==============================] - 3s 5ms/step - loss: 0.1230 - accuracy: 0.9695\n",
      "Epoch 9/10\n",
      "625/625 [==============================] - 3s 5ms/step - loss: 0.1155 - accuracy: 0.9718\n",
      "Epoch 10/10\n",
      "625/625 [==============================] - 3s 5ms/step - loss: 0.1043 - accuracy: 0.9757\n"
     ]
    },
    {
     "name": "stderr",
     "output_type": "stream",
     "text": [
      "C:\\Users\\carlo\\anaconda3\\lib\\site-packages\\tensorflow\\python\\keras\\engine\\sequential.py:450: UserWarning: `model.predict_classes()` is deprecated and will be removed after 2021-01-01. Please use instead:* `np.argmax(model.predict(x), axis=-1)`,   if your model does multi-class classification   (e.g. if it uses a `softmax` last-layer activation).* `(model.predict(x) > 0.5).astype(\"int32\")`,   if your model does binary classification   (e.g. if it uses a `sigmoid` last-layer activation).\n",
      "  warnings.warn('`model.predict_classes()` is deprecated and '\n"
     ]
    },
    {
     "name": "stdout",
     "output_type": "stream",
     "text": [
      "[CV] END ................act=sigmoid, batch_size=64, opt=sgd; total time=  37.0s\n",
      "Hidden Layer: 1 Size of: 1000\n",
      "Epoch 1/10\n",
      "625/625 [==============================] - 4s 6ms/step - loss: 0.5511 - accuracy: 0.8396\n",
      "Epoch 2/10\n",
      "625/625 [==============================] - 4s 6ms/step - loss: 0.2738 - accuracy: 0.9242\n",
      "Epoch 3/10\n",
      "625/625 [==============================] - 4s 7ms/step - loss: 0.2443 - accuracy: 0.9302\n",
      "Epoch 4/10\n",
      "625/625 [==============================] - 4s 7ms/step - loss: 0.2247 - accuracy: 0.9354\n",
      "Epoch 5/10\n",
      "625/625 [==============================] - 4s 6ms/step - loss: 0.2211 - accuracy: 0.9370\n",
      "Epoch 6/10\n",
      "625/625 [==============================] - 4s 6ms/step - loss: 0.2022 - accuracy: 0.9396\n",
      "Epoch 7/10\n",
      "625/625 [==============================] - 4s 7ms/step - loss: 0.1906 - accuracy: 0.9450\n",
      "Epoch 8/10\n",
      "625/625 [==============================] - 4s 7ms/step - loss: 0.1802 - accuracy: 0.9462\n",
      "Epoch 9/10\n",
      "625/625 [==============================] - 5s 8ms/step - loss: 0.1872 - accuracy: 0.9448\n",
      "Epoch 10/10\n",
      "625/625 [==============================] - 5s 8ms/step - loss: 0.1766 - accuracy: 0.9478\n"
     ]
    },
    {
     "name": "stderr",
     "output_type": "stream",
     "text": [
      "C:\\Users\\carlo\\anaconda3\\lib\\site-packages\\tensorflow\\python\\keras\\engine\\sequential.py:450: UserWarning: `model.predict_classes()` is deprecated and will be removed after 2021-01-01. Please use instead:* `np.argmax(model.predict(x), axis=-1)`,   if your model does multi-class classification   (e.g. if it uses a `softmax` last-layer activation).* `(model.predict(x) > 0.5).astype(\"int32\")`,   if your model does binary classification   (e.g. if it uses a `sigmoid` last-layer activation).\n",
      "  warnings.warn('`model.predict_classes()` is deprecated and '\n"
     ]
    },
    {
     "name": "stdout",
     "output_type": "stream",
     "text": [
      "[CV] END ...............act=sigmoid, batch_size=64, opt=adam; total time=  43.9s\n",
      "Hidden Layer: 1 Size of: 1000\n",
      "Epoch 1/10\n",
      "625/625 [==============================] - 5s 7ms/step - loss: 0.5643 - accuracy: 0.8401\n",
      "Epoch 2/10\n",
      "625/625 [==============================] - 4s 7ms/step - loss: 0.2705 - accuracy: 0.9247\n",
      "Epoch 3/10\n",
      "625/625 [==============================] - 4s 6ms/step - loss: 0.2463 - accuracy: 0.9296\n",
      "Epoch 4/10\n",
      "625/625 [==============================] - 4s 6ms/step - loss: 0.2242 - accuracy: 0.9338\n",
      "Epoch 5/10\n",
      "625/625 [==============================] - 4s 6ms/step - loss: 0.2124 - accuracy: 0.9379\n",
      "Epoch 6/10\n",
      "625/625 [==============================] - 4s 6ms/step - loss: 0.2042 - accuracy: 0.9408\n",
      "Epoch 7/10\n",
      "625/625 [==============================] - 4s 6ms/step - loss: 0.1885 - accuracy: 0.9459\n",
      "Epoch 8/10\n",
      "625/625 [==============================] - 4s 6ms/step - loss: 0.1872 - accuracy: 0.9466\n",
      "Epoch 9/10\n",
      "625/625 [==============================] - 4s 6ms/step - loss: 0.1833 - accuracy: 0.9449\n",
      "Epoch 10/10\n",
      "625/625 [==============================] - 4s 7ms/step - loss: 0.1720 - accuracy: 0.9481\n"
     ]
    },
    {
     "name": "stderr",
     "output_type": "stream",
     "text": [
      "C:\\Users\\carlo\\anaconda3\\lib\\site-packages\\tensorflow\\python\\keras\\engine\\sequential.py:450: UserWarning: `model.predict_classes()` is deprecated and will be removed after 2021-01-01. Please use instead:* `np.argmax(model.predict(x), axis=-1)`,   if your model does multi-class classification   (e.g. if it uses a `softmax` last-layer activation).* `(model.predict(x) > 0.5).astype(\"int32\")`,   if your model does binary classification   (e.g. if it uses a `sigmoid` last-layer activation).\n",
      "  warnings.warn('`model.predict_classes()` is deprecated and '\n"
     ]
    },
    {
     "name": "stdout",
     "output_type": "stream",
     "text": [
      "[CV] END ...............act=sigmoid, batch_size=64, opt=adam; total time=  40.1s\n",
      "Hidden Layer: 1 Size of: 1000\n",
      "Epoch 1/10\n",
      "625/625 [==============================] - 4s 6ms/step - loss: 0.5589 - accuracy: 0.8398\n",
      "Epoch 2/10\n",
      "625/625 [==============================] - 4s 6ms/step - loss: 0.2805 - accuracy: 0.9233\n",
      "Epoch 3/10\n",
      "625/625 [==============================] - 4s 6ms/step - loss: 0.2371 - accuracy: 0.9309\n",
      "Epoch 4/10\n",
      "625/625 [==============================] - 4s 6ms/step - loss: 0.2289 - accuracy: 0.9341\n",
      "Epoch 5/10\n",
      "625/625 [==============================] - 3s 5ms/step - loss: 0.2138 - accuracy: 0.9368\n",
      "Epoch 6/10\n",
      "625/625 [==============================] - 4s 6ms/step - loss: 0.2111 - accuracy: 0.9382\n",
      "Epoch 7/10\n",
      "625/625 [==============================] - 4s 6ms/step - loss: 0.1994 - accuracy: 0.9406\n",
      "Epoch 8/10\n",
      "625/625 [==============================] - 4s 6ms/step - loss: 0.1928 - accuracy: 0.9414\n",
      "Epoch 9/10\n",
      "625/625 [==============================] - 4s 6ms/step - loss: 0.1800 - accuracy: 0.9462\n",
      "Epoch 10/10\n",
      "625/625 [==============================] - 4s 6ms/step - loss: 0.1851 - accuracy: 0.9434\n"
     ]
    },
    {
     "name": "stderr",
     "output_type": "stream",
     "text": [
      "C:\\Users\\carlo\\anaconda3\\lib\\site-packages\\tensorflow\\python\\keras\\engine\\sequential.py:450: UserWarning: `model.predict_classes()` is deprecated and will be removed after 2021-01-01. Please use instead:* `np.argmax(model.predict(x), axis=-1)`,   if your model does multi-class classification   (e.g. if it uses a `softmax` last-layer activation).* `(model.predict(x) > 0.5).astype(\"int32\")`,   if your model does binary classification   (e.g. if it uses a `sigmoid` last-layer activation).\n",
      "  warnings.warn('`model.predict_classes()` is deprecated and '\n"
     ]
    },
    {
     "name": "stdout",
     "output_type": "stream",
     "text": [
      "[CV] END ...............act=sigmoid, batch_size=64, opt=adam; total time=  38.3s\n",
      "Hidden Layer: 1 Size of: 1000\n",
      "Epoch 1/10\n",
      "313/313 [==============================] - 3s 7ms/step - loss: 1.0448 - accuracy: 0.7114\n",
      "Epoch 2/10\n",
      "313/313 [==============================] - 2s 7ms/step - loss: 0.3667 - accuracy: 0.9063\n",
      "Epoch 3/10\n",
      "313/313 [==============================] - 2s 7ms/step - loss: 0.2844 - accuracy: 0.9259\n",
      "Epoch 4/10\n",
      "313/313 [==============================] - 2s 7ms/step - loss: 0.2535 - accuracy: 0.9318\n",
      "Epoch 5/10\n",
      "313/313 [==============================] - 2s 7ms/step - loss: 0.2160 - accuracy: 0.9439\n",
      "Epoch 6/10\n",
      "313/313 [==============================] - 2s 8ms/step - loss: 0.1949 - accuracy: 0.9499\n",
      "Epoch 7/10\n",
      "313/313 [==============================] - 2s 7ms/step - loss: 0.1787 - accuracy: 0.9564\n",
      "Epoch 8/10\n",
      "313/313 [==============================] - 2s 7ms/step - loss: 0.1605 - accuracy: 0.9620\n",
      "Epoch 9/10\n",
      "313/313 [==============================] - 2s 8ms/step - loss: 0.1475 - accuracy: 0.9653\n",
      "Epoch 10/10\n",
      "313/313 [==============================] - 2s 8ms/step - loss: 0.1362 - accuracy: 0.9700\n"
     ]
    },
    {
     "name": "stderr",
     "output_type": "stream",
     "text": [
      "C:\\Users\\carlo\\anaconda3\\lib\\site-packages\\tensorflow\\python\\keras\\engine\\sequential.py:450: UserWarning: `model.predict_classes()` is deprecated and will be removed after 2021-01-01. Please use instead:* `np.argmax(model.predict(x), axis=-1)`,   if your model does multi-class classification   (e.g. if it uses a `softmax` last-layer activation).* `(model.predict(x) > 0.5).astype(\"int32\")`,   if your model does binary classification   (e.g. if it uses a `sigmoid` last-layer activation).\n",
      "  warnings.warn('`model.predict_classes()` is deprecated and '\n"
     ]
    },
    {
     "name": "stdout",
     "output_type": "stream",
     "text": [
      "[CV] END ...............act=sigmoid, batch_size=128, opt=sgd; total time=  24.1s\n",
      "Hidden Layer: 1 Size of: 1000\n",
      "Epoch 1/10\n",
      "313/313 [==============================] - 3s 8ms/step - loss: 1.0395 - accuracy: 0.7102\n",
      "Epoch 2/10\n",
      "313/313 [==============================] - 3s 8ms/step - loss: 0.3576 - accuracy: 0.9090\n",
      "Epoch 3/10\n",
      "313/313 [==============================] - 3s 10ms/step - loss: 0.2863 - accuracy: 0.9249\n",
      "Epoch 4/10\n",
      "313/313 [==============================] - 3s 10ms/step - loss: 0.2431 - accuracy: 0.9355\n",
      "Epoch 5/10\n",
      "313/313 [==============================] - 3s 9ms/step - loss: 0.2200 - accuracy: 0.9431\n",
      "Epoch 6/10\n",
      "313/313 [==============================] - 3s 8ms/step - loss: 0.2030 - accuracy: 0.9467\n",
      "Epoch 7/10\n",
      "313/313 [==============================] - 3s 8ms/step - loss: 0.1771 - accuracy: 0.9561\n",
      "Epoch 8/10\n",
      "313/313 [==============================] - 2s 8ms/step - loss: 0.1599 - accuracy: 0.9601\n",
      "Epoch 9/10\n",
      "313/313 [==============================] - 2s 8ms/step - loss: 0.1478 - accuracy: 0.9631: 0s - loss:\n",
      "Epoch 10/10\n",
      "313/313 [==============================] - 2s 7ms/step - loss: 0.1369 - accuracy: 0.9679\n"
     ]
    },
    {
     "name": "stderr",
     "output_type": "stream",
     "text": [
      "C:\\Users\\carlo\\anaconda3\\lib\\site-packages\\tensorflow\\python\\keras\\engine\\sequential.py:450: UserWarning: `model.predict_classes()` is deprecated and will be removed after 2021-01-01. Please use instead:* `np.argmax(model.predict(x), axis=-1)`,   if your model does multi-class classification   (e.g. if it uses a `softmax` last-layer activation).* `(model.predict(x) > 0.5).astype(\"int32\")`,   if your model does binary classification   (e.g. if it uses a `sigmoid` last-layer activation).\n",
      "  warnings.warn('`model.predict_classes()` is deprecated and '\n"
     ]
    },
    {
     "name": "stdout",
     "output_type": "stream",
     "text": [
      "[CV] END ...............act=sigmoid, batch_size=128, opt=sgd; total time=  27.1s\n",
      "Hidden Layer: 1 Size of: 1000\n",
      "Epoch 1/10\n",
      "313/313 [==============================] - 3s 7ms/step - loss: 1.0549 - accuracy: 0.7057\n",
      "Epoch 2/10\n",
      "313/313 [==============================] - 2s 7ms/step - loss: 0.3681 - accuracy: 0.9057\n",
      "Epoch 3/10\n",
      "313/313 [==============================] - 2s 7ms/step - loss: 0.2852 - accuracy: 0.9257\n",
      "Epoch 4/10\n",
      "313/313 [==============================] - 2s 7ms/step - loss: 0.2432 - accuracy: 0.9357\n",
      "Epoch 5/10\n",
      "313/313 [==============================] - 2s 8ms/step - loss: 0.2162 - accuracy: 0.9446\n",
      "Epoch 6/10\n",
      "313/313 [==============================] - 2s 7ms/step - loss: 0.1908 - accuracy: 0.9526\n",
      "Epoch 7/10\n",
      "313/313 [==============================] - 2s 7ms/step - loss: 0.1698 - accuracy: 0.9589\n",
      "Epoch 8/10\n",
      "313/313 [==============================] - 2s 7ms/step - loss: 0.1588 - accuracy: 0.9606\n",
      "Epoch 9/10\n",
      "313/313 [==============================] - 2s 7ms/step - loss: 0.1424 - accuracy: 0.9669\n",
      "Epoch 10/10\n",
      "313/313 [==============================] - 2s 7ms/step - loss: 0.1330 - accuracy: 0.9689\n"
     ]
    },
    {
     "name": "stderr",
     "output_type": "stream",
     "text": [
      "C:\\Users\\carlo\\anaconda3\\lib\\site-packages\\tensorflow\\python\\keras\\engine\\sequential.py:450: UserWarning: `model.predict_classes()` is deprecated and will be removed after 2021-01-01. Please use instead:* `np.argmax(model.predict(x), axis=-1)`,   if your model does multi-class classification   (e.g. if it uses a `softmax` last-layer activation).* `(model.predict(x) > 0.5).astype(\"int32\")`,   if your model does binary classification   (e.g. if it uses a `sigmoid` last-layer activation).\n",
      "  warnings.warn('`model.predict_classes()` is deprecated and '\n"
     ]
    },
    {
     "name": "stdout",
     "output_type": "stream",
     "text": [
      "[CV] END ...............act=sigmoid, batch_size=128, opt=sgd; total time=  23.2s\n",
      "Hidden Layer: 1 Size of: 1000\n",
      "Epoch 1/10\n",
      "313/313 [==============================] - 3s 8ms/step - loss: 0.6136 - accuracy: 0.8205\n",
      "Epoch 2/10\n",
      "313/313 [==============================] - 4s 12ms/step - loss: 0.2570 - accuracy: 0.9283\n",
      "Epoch 3/10\n",
      "313/313 [==============================] - 3s 10ms/step - loss: 0.2202 - accuracy: 0.9398\n",
      "Epoch 4/10\n",
      "313/313 [==============================] - 4s 12ms/step - loss: 0.2085 - accuracy: 0.9404\n",
      "Epoch 5/10\n",
      "313/313 [==============================] - 4s 13ms/step - loss: 0.1991 - accuracy: 0.9439\n",
      "Epoch 6/10\n",
      "313/313 [==============================] - 3s 9ms/step - loss: 0.1927 - accuracy: 0.9452\n",
      "Epoch 7/10\n",
      "313/313 [==============================] - 3s 8ms/step - loss: 0.1801 - accuracy: 0.9487\n",
      "Epoch 8/10\n",
      "313/313 [==============================] - 3s 8ms/step - loss: 0.1737 - accuracy: 0.9503\n",
      "Epoch 9/10\n",
      "313/313 [==============================] - 3s 9ms/step - loss: 0.1670 - accuracy: 0.9525\n",
      "Epoch 10/10\n",
      "313/313 [==============================] - 3s 8ms/step - loss: 0.1598 - accuracy: 0.9531\n"
     ]
    },
    {
     "name": "stderr",
     "output_type": "stream",
     "text": [
      "C:\\Users\\carlo\\anaconda3\\lib\\site-packages\\tensorflow\\python\\keras\\engine\\sequential.py:450: UserWarning: `model.predict_classes()` is deprecated and will be removed after 2021-01-01. Please use instead:* `np.argmax(model.predict(x), axis=-1)`,   if your model does multi-class classification   (e.g. if it uses a `softmax` last-layer activation).* `(model.predict(x) > 0.5).astype(\"int32\")`,   if your model does binary classification   (e.g. if it uses a `sigmoid` last-layer activation).\n",
      "  warnings.warn('`model.predict_classes()` is deprecated and '\n"
     ]
    },
    {
     "name": "stdout",
     "output_type": "stream",
     "text": [
      "[CV] END ..............act=sigmoid, batch_size=128, opt=adam; total time=  31.6s\n",
      "Hidden Layer: 1 Size of: 1000\n",
      "Epoch 1/10\n",
      "313/313 [==============================] - 3s 8ms/step - loss: 0.5665 - accuracy: 0.8386\n",
      "Epoch 2/10\n",
      "313/313 [==============================] - 2s 8ms/step - loss: 0.2535 - accuracy: 0.9321\n",
      "Epoch 3/10\n",
      "313/313 [==============================] - 2s 8ms/step - loss: 0.2166 - accuracy: 0.9389\n",
      "Epoch 4/10\n",
      "313/313 [==============================] - 3s 8ms/step - loss: 0.2024 - accuracy: 0.9430\n",
      "Epoch 5/10\n",
      "313/313 [==============================] - 3s 8ms/step - loss: 0.1988 - accuracy: 0.9442\n",
      "Epoch 6/10\n",
      "313/313 [==============================] - 3s 8ms/step - loss: 0.1893 - accuracy: 0.9475\n",
      "Epoch 7/10\n",
      "313/313 [==============================] - 3s 9ms/step - loss: 0.1740 - accuracy: 0.9508\n",
      "Epoch 8/10\n",
      "313/313 [==============================] - 2s 8ms/step - loss: 0.1712 - accuracy: 0.9495\n",
      "Epoch 9/10\n",
      "313/313 [==============================] - 2s 8ms/step - loss: 0.1649 - accuracy: 0.9538\n",
      "Epoch 10/10\n",
      "313/313 [==============================] - 2s 8ms/step - loss: 0.1585 - accuracy: 0.9543\n"
     ]
    },
    {
     "name": "stderr",
     "output_type": "stream",
     "text": [
      "C:\\Users\\carlo\\anaconda3\\lib\\site-packages\\tensorflow\\python\\keras\\engine\\sequential.py:450: UserWarning: `model.predict_classes()` is deprecated and will be removed after 2021-01-01. Please use instead:* `np.argmax(model.predict(x), axis=-1)`,   if your model does multi-class classification   (e.g. if it uses a `softmax` last-layer activation).* `(model.predict(x) > 0.5).astype(\"int32\")`,   if your model does binary classification   (e.g. if it uses a `sigmoid` last-layer activation).\n",
      "  warnings.warn('`model.predict_classes()` is deprecated and '\n"
     ]
    },
    {
     "name": "stdout",
     "output_type": "stream",
     "text": [
      "[CV] END ..............act=sigmoid, batch_size=128, opt=adam; total time=  26.6s\n",
      "Hidden Layer: 1 Size of: 1000\n",
      "Epoch 1/10\n",
      "313/313 [==============================] - 3s 8ms/step - loss: 0.6107 - accuracy: 0.8198\n",
      "Epoch 2/10\n",
      "313/313 [==============================] - 2s 8ms/step - loss: 0.2550 - accuracy: 0.9313\n",
      "Epoch 3/10\n",
      "313/313 [==============================] - 3s 8ms/step - loss: 0.2255 - accuracy: 0.9355\n",
      "Epoch 4/10\n",
      "313/313 [==============================] - 3s 9ms/step - loss: 0.2083 - accuracy: 0.9422\n",
      "Epoch 5/10\n",
      "313/313 [==============================] - 3s 8ms/step - loss: 0.1904 - accuracy: 0.9451\n",
      "Epoch 6/10\n",
      "313/313 [==============================] - 3s 9ms/step - loss: 0.1837 - accuracy: 0.9478\n",
      "Epoch 7/10\n",
      "313/313 [==============================] - 3s 8ms/step - loss: 0.1888 - accuracy: 0.9448\n",
      "Epoch 8/10\n",
      "313/313 [==============================] - 3s 9ms/step - loss: 0.1732 - accuracy: 0.9497: 0s - l\n",
      "Epoch 9/10\n",
      "313/313 [==============================] - 3s 9ms/step - loss: 0.1687 - accuracy: 0.9522\n",
      "Epoch 10/10\n",
      "313/313 [==============================] - 3s 9ms/step - loss: 0.1591 - accuracy: 0.9540\n"
     ]
    },
    {
     "name": "stderr",
     "output_type": "stream",
     "text": [
      "C:\\Users\\carlo\\anaconda3\\lib\\site-packages\\tensorflow\\python\\keras\\engine\\sequential.py:450: UserWarning: `model.predict_classes()` is deprecated and will be removed after 2021-01-01. Please use instead:* `np.argmax(model.predict(x), axis=-1)`,   if your model does multi-class classification   (e.g. if it uses a `softmax` last-layer activation).* `(model.predict(x) > 0.5).astype(\"int32\")`,   if your model does binary classification   (e.g. if it uses a `sigmoid` last-layer activation).\n",
      "  warnings.warn('`model.predict_classes()` is deprecated and '\n"
     ]
    },
    {
     "name": "stdout",
     "output_type": "stream",
     "text": [
      "[CV] END ..............act=sigmoid, batch_size=128, opt=adam; total time=  28.2s\n",
      "Hidden Layer: 1 Size of: 1000\n",
      "Epoch 1/10\n",
      "938/938 [==============================] - 7s 7ms/step - loss: 9.6120 - accuracy: 0.8721\n",
      "Epoch 2/10\n",
      "938/938 [==============================] - 6s 6ms/step - loss: 0.3533 - accuracy: 0.9562\n",
      "Epoch 3/10\n",
      "938/938 [==============================] - 6s 6ms/step - loss: 0.3008 - accuracy: 0.9584\n",
      "Epoch 4/10\n",
      "938/938 [==============================] - 7s 7ms/step - loss: 0.2393 - accuracy: 0.9654\n",
      "Epoch 5/10\n",
      "938/938 [==============================] - 7s 8ms/step - loss: 0.2417 - accuracy: 0.9629\n",
      "Epoch 6/10\n",
      "938/938 [==============================] - 7s 7ms/step - loss: 0.2470 - accuracy: 0.9637\n",
      "Epoch 7/10\n",
      "938/938 [==============================] - 6s 7ms/step - loss: 0.2702 - accuracy: 0.9659\n",
      "Epoch 8/10\n",
      "938/938 [==============================] - 6s 6ms/step - loss: 0.1803 - accuracy: 0.9704\n",
      "Epoch 9/10\n",
      "938/938 [==============================] - 6s 7ms/step - loss: 0.1980 - accuracy: 0.9678\n",
      "Epoch 10/10\n",
      "938/938 [==============================] - 6s 6ms/step - loss: 0.1791 - accuracy: 0.9734\n",
      "\n",
      "Best parameters:  {'act': 'relu', 'batch_size': 64, 'opt': 'adam'}\n"
     ]
    }
   ],
   "source": [
    "from keras.wrappers.scikit_learn import KerasClassifier\n",
    "\n",
    "def nn_params_search(nn, X, y, param_grid): # 30 points\n",
    "    '''Search best paramaters\n",
    "    \n",
    "    Parameters\n",
    "    ----------\n",
    "    X_train: features\n",
    "    y_train: target of the input\n",
    "    param_grid: a dict that defines the parameters\n",
    "    \n",
    "    Returns\n",
    "    -------\n",
    "    best_params_\n",
    "        \n",
    "    '''\n",
    "    ## add your code here. set cv = 3, scoring = 'accuracy', and verbose = 2\n",
    "    grid = GridSearchCV(estimator=nn, cv = 3, scoring = 'accuracy', verbose = 2, param_grid=param_grid)\n",
    "    results = grid.fit(X, y)\n",
    "    return results.best_params_\n",
    "    \n",
    "    ##\n",
    "\n",
    "# wrap keras model to use in sklearn\n",
    "nn = KerasClassifier(build_fn = create_NN, batch_size = 64, epochs = 10) # using the keras wapper\n",
    "param_grid = {'batch_size': [64, 128], \n",
    "              'act':['relu', 'sigmoid'], 'opt': ['sgd', 'adam']}\n",
    "\n",
    "best_params = nn_params_search(nn, X_train, y_train, param_grid = param_grid)\n",
    "print('\\nBest parameters: ', best_params)"
   ]
  },
  {
   "cell_type": "markdown",
   "metadata": {},
   "source": [
    "### 4. Retrain a neural network using the best parameters. 10 points\n",
    "    - Compelte the retrain_test_nn function to create (create_NN) and train (fit) a new nn using parameters in best_params\n",
    "    - The default epoches are 20 and each epoch may take around 10 to 20 seconds; and you can increase this value to get better results"
   ]
  },
  {
   "cell_type": "code",
   "execution_count": 7,
   "metadata": {
    "scrolled": true
   },
   "outputs": [
    {
     "name": "stdout",
     "output_type": "stream",
     "text": [
      "Hidden Layer: 1 Size of: 1000\n",
      "Hidden Layer: 2 Size of: 500\n",
      "Model: \"sequential_28\"\n",
      "_________________________________________________________________\n",
      "Layer (type)                 Output Shape              Param #   \n",
      "=================================================================\n",
      "dense_59 (Dense)             (None, 1000)              785000    \n",
      "_________________________________________________________________\n",
      "dense_60 (Dense)             (None, 500)               500500    \n",
      "_________________________________________________________________\n",
      "dense_61 (Dense)             (None, 10)                5010      \n",
      "=================================================================\n",
      "Total params: 1,290,510\n",
      "Trainable params: 1,290,510\n",
      "Non-trainable params: 0\n",
      "_________________________________________________________________\n",
      "Epoch 1/20\n",
      "938/938 [==============================] - 10s 10ms/step - loss: 7.9892 - accuracy: 0.8638\n",
      "Epoch 2/20\n",
      "938/938 [==============================] - 10s 11ms/step - loss: 0.1752 - accuracy: 0.9566\n",
      "Epoch 3/20\n",
      "938/938 [==============================] - 10s 10ms/step - loss: 0.1271 - accuracy: 0.9657\n",
      "Epoch 4/20\n",
      "938/938 [==============================] - 10s 11ms/step - loss: 0.1204 - accuracy: 0.9684\n",
      "Epoch 5/20\n",
      "938/938 [==============================] - 11s 11ms/step - loss: 0.1104 - accuracy: 0.9711\n",
      "Epoch 6/20\n",
      "938/938 [==============================] - 10s 11ms/step - loss: 0.0958 - accuracy: 0.9739\n",
      "Epoch 7/20\n",
      "938/938 [==============================] - 10s 11ms/step - loss: 0.1028 - accuracy: 0.9735\n",
      "Epoch 8/20\n",
      "938/938 [==============================] - 10s 11ms/step - loss: 0.0952 - accuracy: 0.9757\n",
      "Epoch 9/20\n",
      "938/938 [==============================] - 10s 11ms/step - loss: 0.0810 - accuracy: 0.9781\n",
      "Epoch 10/20\n",
      "938/938 [==============================] - 13s 14ms/step - loss: 0.0705 - accuracy: 0.9813\n",
      "Epoch 11/20\n",
      "938/938 [==============================] - 12s 13ms/step - loss: 0.0690 - accuracy: 0.9817\n",
      "Epoch 12/20\n",
      "938/938 [==============================] - 12s 12ms/step - loss: 0.0817 - accuracy: 0.9808\n",
      "Epoch 13/20\n",
      "938/938 [==============================] - 11s 11ms/step - loss: 0.0705 - accuracy: 0.9838\n",
      "Epoch 14/20\n",
      "938/938 [==============================] - 10s 11ms/step - loss: 0.0487 - accuracy: 0.9871\n",
      "Epoch 15/20\n",
      "938/938 [==============================] - 11s 11ms/step - loss: 0.0673 - accuracy: 0.9835\n",
      "Epoch 16/20\n",
      "938/938 [==============================] - 10s 11ms/step - loss: 0.0460 - accuracy: 0.9891\n",
      "Epoch 17/20\n",
      "938/938 [==============================] - 10s 11ms/step - loss: 0.0657 - accuracy: 0.9850\n",
      "Epoch 18/20\n",
      "938/938 [==============================] - 11s 11ms/step - loss: 0.0564 - accuracy: 0.9867\n",
      "Epoch 19/20\n",
      "938/938 [==============================] - 11s 11ms/step - loss: 0.0492 - accuracy: 0.9881\n",
      "Epoch 20/20\n",
      "938/938 [==============================] - 13s 13ms/step - loss: 0.0458 - accuracy: 0.9895\n"
     ]
    }
   ],
   "source": [
    "def retrain_best_nn(best_params, X_train, y_train, epochs = 10): # 10 points\n",
    "    '''Retrain a nn using the best parameters\n",
    "    \n",
    "    Paramters\n",
    "    ----------\n",
    "    best_params:\n",
    "    X_train: data input of the training set\n",
    "    y_train: target of the input (one-hot vectors)\n",
    "    \n",
    "    Returns\n",
    "    ---------\n",
    "    bestNN: the nn classifier trained using the best parameters\n",
    "    \n",
    "    '''\n",
    "    ## add your code here  \n",
    "    h_nodes = [1000, 500] # two hidden layers with 1000 and 500 nodes, respectively.\n",
    "    myNN = create_NN(hidden_layers= h_nodes, act = best_params[\"act\"], opt = best_params[\"opt\"])\n",
    "    myNN.summary()\n",
    "    results = myNN.fit(X_train, y_train, epochs=epochs, batch_size=best_params[\"batch_size\"])\n",
    "    return myNN\n",
    "\n",
    "bestNN = retrain_best_nn(best_params, X_train, y_train_onehot, epochs = 20)"
   ]
  },
  {
   "cell_type": "markdown",
   "metadata": {},
   "source": [
    "### 5. Network evaluation. 20 points\n",
    "\n",
    "    - Complete the myEvaluation function to report the performance of your best nn using the test set\n",
    "        - compute the overall accuracy\n",
    "        - compute the precision for each class"
   ]
  },
  {
   "cell_type": "code",
   "execution_count": null,
   "metadata": {
    "scrolled": true
   },
   "outputs": [],
   "source": [
    "from sklearn.metrics import classification_report\n",
    "\n",
    "def myEvaluation(y, y_pred):\n",
    "    ''' calculate the overall accuracy and precision\n",
    "    \n",
    "        Parameters\n",
    "        ----------\n",
    "        y: real target\n",
    "        y_pred: prediction\n",
    "        \n",
    "        Returns\n",
    "        -------\n",
    "        acc: accuracy\n",
    "        precision: precision array\n",
    "    '''\n",
    "    ## add your code here\n",
    "    # calculate the overall acc\n",
    "\n",
    "    \n",
    "    # calculate the precision for each class\n",
    "\n",
    "    \n",
    "    # return acc and precision array\n",
    "    \n",
    "    \n",
    "    ##\n",
    "\n",
    "#\n",
    "y_test_pred = bestNN.predict_classes(X_test)\n",
    "acc, precision = myEvaluation(y_test, y_test_pred)\n",
    "print('my accuracy:    {:.2f}'.format(acc))\n",
    "print('my precision:', precision)\n",
    "\n",
    "# results calculated using the classification_report\n",
    "print(classification_report(y_test, y_test_pred))"
   ]
  },
  {
   "cell_type": "markdown",
   "metadata": {},
   "source": [
    "### 6. Any findings or conclusion, e.g., useful strategies to improve nn performance. Extra 10 points\n",
    "1.\n",
    "\n",
    "2.\n",
    "\n",
    "3.\n",
    "\n",
    "4....\n"
   ]
  },
  {
   "cell_type": "code",
   "execution_count": null,
   "metadata": {},
   "outputs": [],
   "source": []
  },
  {
   "cell_type": "code",
   "execution_count": null,
   "metadata": {},
   "outputs": [],
   "source": []
  }
 ],
 "metadata": {
  "kernelspec": {
   "display_name": "Python 3",
   "language": "python",
   "name": "python3"
  },
  "language_info": {
   "codemirror_mode": {
    "name": "ipython",
    "version": 3
   },
   "file_extension": ".py",
   "mimetype": "text/x-python",
   "name": "python",
   "nbconvert_exporter": "python",
   "pygments_lexer": "ipython3",
   "version": "3.8.5"
  }
 },
 "nbformat": 4,
 "nbformat_minor": 2
}
